{
 "cells": [
  {
   "cell_type": "markdown",
   "id": "2ef933fc",
   "metadata": {
    "id": "v0WeWbFNkUSz",
    "papermill": {
     "duration": 0.011985,
     "end_time": "2024-11-12T10:08:38.608007",
     "exception": false,
     "start_time": "2024-11-12T10:08:38.596022",
     "status": "completed"
    },
    "tags": []
   },
   "source": [
    "##### Copyright 2024 Google LLC."
   ]
  },
  {
   "cell_type": "code",
   "execution_count": 1,
   "id": "f072ffda",
   "metadata": {
    "cellView": "form",
    "execution": {
     "iopub.execute_input": "2024-11-12T10:08:38.632747Z",
     "iopub.status.busy": "2024-11-12T10:08:38.632286Z",
     "iopub.status.idle": "2024-11-12T10:08:38.639145Z",
     "shell.execute_reply": "2024-11-12T10:08:38.637982Z"
    },
    "id": "Aqwsgz9lkUst",
    "papermill": {
     "duration": 0.022318,
     "end_time": "2024-11-12T10:08:38.641821",
     "exception": false,
     "start_time": "2024-11-12T10:08:38.619503",
     "status": "completed"
    },
    "tags": []
   },
   "outputs": [],
   "source": [
    "# @title Licensed under the Apache License, Version 2.0 (the \"License\");\n",
    "# you may not use this file except in compliance with the License.\n",
    "# You may obtain a copy of the License at\n",
    "#\n",
    "# https://www.apache.org/licenses/LICENSE-2.0\n",
    "#\n",
    "# Unless required by applicable law or agreed to in writing, software\n",
    "# distributed under the License is distributed on an \"AS IS\" BASIS,\n",
    "# WITHOUT WARRANTIES OR CONDITIONS OF ANY KIND, either express or implied.\n",
    "# See the License for the specific language governing permissions and\n",
    "# limitations under the License."
   ]
  },
  {
   "cell_type": "markdown",
   "id": "fbaa9487",
   "metadata": {
    "id": "bhT1u-Pof10V",
    "papermill": {
     "duration": 0.01083,
     "end_time": "2024-11-12T10:08:38.663964",
     "exception": false,
     "start_time": "2024-11-12T10:08:38.653134",
     "status": "completed"
    },
    "tags": []
   },
   "source": [
    "# Day 2 - Classifying embeddings with Keras and the Gemini API\n",
    "\n",
    "## Overview\n",
    "\n",
    "Welcome back to the Kaggle 5-day Generative AI course. In this notebook, you'll learn to use the embeddings produced by the Gemini API to train a model that can classify newsgroup posts into the categories (the newsgroup itself) from the post contents.\n",
    "\n",
    "This technique uses the Gemini API's embeddings as input, avoiding the need to train on text input directly, and as a result it is able to perform quite well using relatively few examples compared to training a text model from scratch.\n",
    "\n",
    "## For help\n",
    "\n",
    "**Common issues are covered in the [FAQ and troubleshooting guide](https://www.kaggle.com/code/markishere/day-0-troubleshooting-and-faqs).**\n"
   ]
  },
  {
   "cell_type": "code",
   "execution_count": 2,
   "id": "08053dae",
   "metadata": {
    "execution": {
     "iopub.execute_input": "2024-11-12T10:08:38.688619Z",
     "iopub.status.busy": "2024-11-12T10:08:38.688190Z",
     "iopub.status.idle": "2024-11-12T10:09:20.160259Z",
     "shell.execute_reply": "2024-11-12T10:09:20.158654Z"
    },
    "id": "FXq0ygI3BCdQ",
    "papermill": {
     "duration": 41.499337,
     "end_time": "2024-11-12T10:09:20.174575",
     "exception": false,
     "start_time": "2024-11-12T10:08:38.675238",
     "status": "completed"
    },
    "tags": []
   },
   "outputs": [
    {
     "name": "stdout",
     "output_type": "stream",
     "text": [
      "Note: you may need to restart the kernel to use updated packages.\n"
     ]
    }
   ],
   "source": [
    "%pip install -U -q \"google-generativeai>=0.8.3\""
   ]
  },
  {
   "cell_type": "code",
   "execution_count": 3,
   "id": "7cb53f19",
   "metadata": {
    "execution": {
     "iopub.execute_input": "2024-11-12T10:09:20.199163Z",
     "iopub.status.busy": "2024-11-12T10:09:20.198690Z",
     "iopub.status.idle": "2024-11-12T10:09:21.656085Z",
     "shell.execute_reply": "2024-11-12T10:09:21.654781Z"
    },
    "id": "XiJjB2vWCQJP",
    "papermill": {
     "duration": 1.473312,
     "end_time": "2024-11-12T10:09:21.659100",
     "exception": false,
     "start_time": "2024-11-12T10:09:20.185788",
     "status": "completed"
    },
    "tags": []
   },
   "outputs": [],
   "source": [
    "import google.generativeai as genai"
   ]
  },
  {
   "cell_type": "markdown",
   "id": "5b8d5a63",
   "metadata": {
    "id": "_mwJYXpElYJc",
    "papermill": {
     "duration": 0.010914,
     "end_time": "2024-11-12T10:09:21.681360",
     "exception": false,
     "start_time": "2024-11-12T10:09:21.670446",
     "status": "completed"
    },
    "tags": []
   },
   "source": [
    "### Set up your API key\n",
    "\n",
    "To run the following cell, your API key must be stored it in a [Kaggle secret](https://www.kaggle.com/discussions/product-feedback/114053) named `GOOGLE_API_KEY`.\n",
    "\n",
    "If you don't already have an API key, you can grab one from [AI Studio](https://aistudio.google.com/app/apikey). You can find [detailed instructions in the docs](https://ai.google.dev/gemini-api/docs/api-key).\n",
    "\n",
    "To make the key available through Kaggle secrets, choose `Secrets` from the `Add-ons` menu and follow the instructions to add your key or enable it for this notebook."
   ]
  },
  {
   "cell_type": "code",
   "execution_count": 4,
   "id": "15764f54",
   "metadata": {
    "execution": {
     "iopub.execute_input": "2024-11-12T10:09:21.706296Z",
     "iopub.status.busy": "2024-11-12T10:09:21.705309Z",
     "iopub.status.idle": "2024-11-12T10:09:21.794751Z",
     "shell.execute_reply": "2024-11-12T10:09:21.793411Z"
    },
    "id": "tayrk_A2lZ7A",
    "papermill": {
     "duration": 0.105024,
     "end_time": "2024-11-12T10:09:21.797609",
     "exception": false,
     "start_time": "2024-11-12T10:09:21.692585",
     "status": "completed"
    },
    "tags": []
   },
   "outputs": [],
   "source": [
    "from kaggle_secrets import UserSecretsClient\n",
    "\n",
    "GOOGLE_API_KEY = UserSecretsClient().get_secret(\"GOOGLE_API_KEY\")\n",
    "genai.configure(api_key=GOOGLE_API_KEY)"
   ]
  },
  {
   "cell_type": "markdown",
   "id": "ee44457d",
   "metadata": {
    "id": "c79728739642",
    "papermill": {
     "duration": 0.010851,
     "end_time": "2024-11-12T10:09:21.819693",
     "exception": false,
     "start_time": "2024-11-12T10:09:21.808842",
     "status": "completed"
    },
    "tags": []
   },
   "source": [
    "If you received an error response along the lines of `No user secrets exist for kernel id ...`, then you need to add your API key via `Add-ons`, `Secrets` **and** enable it.\n",
    "\n",
    "![Screenshot of the checkbox to enable GOOGLE_API_KEY secret](https://storage.googleapis.com/kaggle-media/Images/5gdai_sc_3.png)"
   ]
  },
  {
   "cell_type": "markdown",
   "id": "7e5917ec",
   "metadata": {
    "id": "C5B9sWq0hNEV",
    "papermill": {
     "duration": 0.011249,
     "end_time": "2024-11-12T10:09:21.842421",
     "exception": false,
     "start_time": "2024-11-12T10:09:21.831172",
     "status": "completed"
    },
    "tags": []
   },
   "source": [
    "## Dataset\n",
    "\n",
    "The [20 Newsgroups Text Dataset](https://scikit-learn.org/0.19/datasets/twenty_newsgroups.html) contains 18,000 newsgroups posts on 20 topics divided into training and test sets. The split between the training and test datasets are based on messages posted before and after a specific date. For this tutorial, you will use sampled subsets of the training and test sets, and perform some processing using Pandas."
   ]
  },
  {
   "cell_type": "code",
   "execution_count": 5,
   "id": "8691edb3",
   "metadata": {
    "execution": {
     "iopub.execute_input": "2024-11-12T10:09:21.867104Z",
     "iopub.status.busy": "2024-11-12T10:09:21.866395Z",
     "iopub.status.idle": "2024-11-12T10:09:35.516274Z",
     "shell.execute_reply": "2024-11-12T10:09:35.514928Z"
    },
    "id": "jDoKis4om-Ea",
    "papermill": {
     "duration": 13.665569,
     "end_time": "2024-11-12T10:09:35.519131",
     "exception": false,
     "start_time": "2024-11-12T10:09:21.853562",
     "status": "completed"
    },
    "tags": []
   },
   "outputs": [
    {
     "data": {
      "text/plain": [
       "['alt.atheism',\n",
       " 'comp.graphics',\n",
       " 'comp.os.ms-windows.misc',\n",
       " 'comp.sys.ibm.pc.hardware',\n",
       " 'comp.sys.mac.hardware',\n",
       " 'comp.windows.x',\n",
       " 'misc.forsale',\n",
       " 'rec.autos',\n",
       " 'rec.motorcycles',\n",
       " 'rec.sport.baseball',\n",
       " 'rec.sport.hockey',\n",
       " 'sci.crypt',\n",
       " 'sci.electronics',\n",
       " 'sci.med',\n",
       " 'sci.space',\n",
       " 'soc.religion.christian',\n",
       " 'talk.politics.guns',\n",
       " 'talk.politics.mideast',\n",
       " 'talk.politics.misc',\n",
       " 'talk.religion.misc']"
      ]
     },
     "execution_count": 5,
     "metadata": {},
     "output_type": "execute_result"
    }
   ],
   "source": [
    "from sklearn.datasets import fetch_20newsgroups\n",
    "\n",
    "newsgroups_train = fetch_20newsgroups(subset=\"train\")\n",
    "newsgroups_test = fetch_20newsgroups(subset=\"test\")\n",
    "\n",
    "# View list of class names for dataset\n",
    "newsgroups_train.target_names"
   ]
  },
  {
   "cell_type": "markdown",
   "id": "f3e8d8b5",
   "metadata": {
    "id": "hDz9MjkNl_FD",
    "papermill": {
     "duration": 0.011257,
     "end_time": "2024-11-12T10:09:35.541995",
     "exception": false,
     "start_time": "2024-11-12T10:09:35.530738",
     "status": "completed"
    },
    "tags": []
   },
   "source": [
    "Here is an example of what a record from the training set looks like."
   ]
  },
  {
   "cell_type": "code",
   "execution_count": 6,
   "id": "27625fad",
   "metadata": {
    "execution": {
     "iopub.execute_input": "2024-11-12T10:09:35.567380Z",
     "iopub.status.busy": "2024-11-12T10:09:35.566418Z",
     "iopub.status.idle": "2024-11-12T10:09:35.572884Z",
     "shell.execute_reply": "2024-11-12T10:09:35.571669Z"
    },
    "id": "FPq-56AimOPX",
    "papermill": {
     "duration": 0.022889,
     "end_time": "2024-11-12T10:09:35.576484",
     "exception": false,
     "start_time": "2024-11-12T10:09:35.553595",
     "status": "completed"
    },
    "tags": []
   },
   "outputs": [
    {
     "name": "stdout",
     "output_type": "stream",
     "text": [
      "From: lerxst@wam.umd.edu (where's my thing)\n",
      "Subject: WHAT car is this!?\n",
      "Nntp-Posting-Host: rac3.wam.umd.edu\n",
      "Organization: University of Maryland, College Park\n",
      "Lines: 15\n",
      "\n",
      " I was wondering if anyone out there could enlighten me on this car I saw\n",
      "the other day. It was a 2-door sports car, looked to be from the late 60s/\n",
      "early 70s. It was called a Bricklin. The doors were really small. In addition,\n",
      "the front bumper was separate from the rest of the body. This is \n",
      "all I know. If anyone can tellme a model name, engine specs, years\n",
      "of production, where this car is made, history, or whatever info you\n",
      "have on this funky looking car, please e-mail.\n",
      "\n",
      "Thanks,\n",
      "- IL\n",
      "   ---- brought to you by your neighborhood Lerxst ----\n",
      "\n",
      "\n",
      "\n",
      "\n",
      "\n"
     ]
    }
   ],
   "source": [
    "print(newsgroups_train.data[0])"
   ]
  },
  {
   "cell_type": "markdown",
   "id": "7c592b27",
   "metadata": {
    "id": "A9-DD7wgCx8j",
    "papermill": {
     "duration": 0.011777,
     "end_time": "2024-11-12T10:09:35.599762",
     "exception": false,
     "start_time": "2024-11-12T10:09:35.587985",
     "status": "completed"
    },
    "tags": []
   },
   "source": [
    "Start by preprocessing the data for this tutorial in a Pandas dataframe. To remove any sensitive information like names and email addresses, you will take only the subject and body of each message. This is an optional step that transforms the input data into more generic text, rather than email posts, so that it will work in other contexts."
   ]
  },
  {
   "cell_type": "code",
   "execution_count": 7,
   "id": "8e5ebc88",
   "metadata": {
    "execution": {
     "iopub.execute_input": "2024-11-12T10:09:35.625797Z",
     "iopub.status.busy": "2024-11-12T10:09:35.625346Z",
     "iopub.status.idle": "2024-11-12T10:09:36.754455Z",
     "shell.execute_reply": "2024-11-12T10:09:36.753033Z"
    },
    "id": "urpLwp3UmPF3",
    "papermill": {
     "duration": 1.145912,
     "end_time": "2024-11-12T10:09:36.757442",
     "exception": false,
     "start_time": "2024-11-12T10:09:35.611530",
     "status": "completed"
    },
    "tags": []
   },
   "outputs": [],
   "source": [
    "import email\n",
    "import re\n",
    "\n",
    "import pandas as pd\n",
    "\n",
    "\n",
    "def preprocess_newsgroup_row(data):\n",
    "    # Extract only the subject and body\n",
    "    msg = email.message_from_string(data)\n",
    "    text = f\"{msg['Subject']}\\n\\n{msg.get_payload()}\"\n",
    "    # Strip any remaining email addresses\n",
    "    text = re.sub(r\"[\\w\\.-]+@[\\w\\.-]+\", \"\", text)\n",
    "    # Truncate each entry to 5,000 characters\n",
    "    text = text[:5000]\n",
    "\n",
    "    return text\n",
    "\n",
    "\n",
    "def preprocess_newsgroup_data(newsgroup_dataset):\n",
    "    # Put data points into dataframe\n",
    "    df = pd.DataFrame(\n",
    "        {\"Text\": newsgroup_dataset.data, \"Label\": newsgroup_dataset.target}\n",
    "    )\n",
    "    # Clean up the text\n",
    "    df[\"Text\"] = df[\"Text\"].apply(preprocess_newsgroup_row)\n",
    "    # Match label to target name index\n",
    "    df[\"Class Name\"] = df[\"Label\"].map(lambda l: newsgroup_dataset.target_names[l])\n",
    "\n",
    "    return df"
   ]
  },
  {
   "cell_type": "code",
   "execution_count": 8,
   "id": "376a7dbc",
   "metadata": {
    "execution": {
     "iopub.execute_input": "2024-11-12T10:09:36.782741Z",
     "iopub.status.busy": "2024-11-12T10:09:36.782106Z",
     "iopub.status.idle": "2024-11-12T10:09:43.528106Z",
     "shell.execute_reply": "2024-11-12T10:09:43.526424Z"
    },
    "id": "JMKddQdNnAOV",
    "papermill": {
     "duration": 6.762542,
     "end_time": "2024-11-12T10:09:43.531647",
     "exception": false,
     "start_time": "2024-11-12T10:09:36.769105",
     "status": "completed"
    },
    "tags": []
   },
   "outputs": [
    {
     "data": {
      "text/html": [
       "<div>\n",
       "<style scoped>\n",
       "    .dataframe tbody tr th:only-of-type {\n",
       "        vertical-align: middle;\n",
       "    }\n",
       "\n",
       "    .dataframe tbody tr th {\n",
       "        vertical-align: top;\n",
       "    }\n",
       "\n",
       "    .dataframe thead th {\n",
       "        text-align: right;\n",
       "    }\n",
       "</style>\n",
       "<table border=\"1\" class=\"dataframe\">\n",
       "  <thead>\n",
       "    <tr style=\"text-align: right;\">\n",
       "      <th></th>\n",
       "      <th>Text</th>\n",
       "      <th>Label</th>\n",
       "      <th>Class Name</th>\n",
       "    </tr>\n",
       "  </thead>\n",
       "  <tbody>\n",
       "    <tr>\n",
       "      <th>0</th>\n",
       "      <td>WHAT car is this!?\\n\\n I was wondering if anyo...</td>\n",
       "      <td>7</td>\n",
       "      <td>rec.autos</td>\n",
       "    </tr>\n",
       "    <tr>\n",
       "      <th>1</th>\n",
       "      <td>SI Clock Poll - Final Call\\n\\nA fair number of...</td>\n",
       "      <td>4</td>\n",
       "      <td>comp.sys.mac.hardware</td>\n",
       "    </tr>\n",
       "    <tr>\n",
       "      <th>2</th>\n",
       "      <td>PB questions...\\n\\nwell folks, my mac plus fin...</td>\n",
       "      <td>4</td>\n",
       "      <td>comp.sys.mac.hardware</td>\n",
       "    </tr>\n",
       "    <tr>\n",
       "      <th>3</th>\n",
       "      <td>Re: Weitek P9000 ?\\n\\nRobert J.C. Kyanko () wr...</td>\n",
       "      <td>1</td>\n",
       "      <td>comp.graphics</td>\n",
       "    </tr>\n",
       "    <tr>\n",
       "      <th>4</th>\n",
       "      <td>Re: Shuttle Launch Question\\n\\nFrom article &lt;&gt;...</td>\n",
       "      <td>14</td>\n",
       "      <td>sci.space</td>\n",
       "    </tr>\n",
       "  </tbody>\n",
       "</table>\n",
       "</div>"
      ],
      "text/plain": [
       "                                                Text  Label  \\\n",
       "0  WHAT car is this!?\\n\\n I was wondering if anyo...      7   \n",
       "1  SI Clock Poll - Final Call\\n\\nA fair number of...      4   \n",
       "2  PB questions...\\n\\nwell folks, my mac plus fin...      4   \n",
       "3  Re: Weitek P9000 ?\\n\\nRobert J.C. Kyanko () wr...      1   \n",
       "4  Re: Shuttle Launch Question\\n\\nFrom article <>...     14   \n",
       "\n",
       "              Class Name  \n",
       "0              rec.autos  \n",
       "1  comp.sys.mac.hardware  \n",
       "2  comp.sys.mac.hardware  \n",
       "3          comp.graphics  \n",
       "4              sci.space  "
      ]
     },
     "execution_count": 8,
     "metadata": {},
     "output_type": "execute_result"
    }
   ],
   "source": [
    "# Apply preprocessing function to training and test datasets\n",
    "df_train = preprocess_newsgroup_data(newsgroups_train)\n",
    "df_test = preprocess_newsgroup_data(newsgroups_test)\n",
    "\n",
    "df_train.head()"
   ]
  },
  {
   "cell_type": "markdown",
   "id": "dbc2b115",
   "metadata": {
    "id": "ogEGbg5XDv-T",
    "papermill": {
     "duration": 0.011945,
     "end_time": "2024-11-12T10:09:43.556101",
     "exception": false,
     "start_time": "2024-11-12T10:09:43.544156",
     "status": "completed"
    },
    "tags": []
   },
   "source": [
    "Next, you will sample some of the data by taking 100 data points in the training dataset, and dropping a few of the categories to run through this tutorial. Choose the science categories to compare."
   ]
  },
  {
   "cell_type": "code",
   "execution_count": 9,
   "id": "df539c04",
   "metadata": {
    "execution": {
     "iopub.execute_input": "2024-11-12T10:09:43.585609Z",
     "iopub.status.busy": "2024-11-12T10:09:43.585145Z",
     "iopub.status.idle": "2024-11-12T10:09:43.594125Z",
     "shell.execute_reply": "2024-11-12T10:09:43.592397Z"
    },
    "id": "C2N7xXhJohLR",
    "papermill": {
     "duration": 0.027097,
     "end_time": "2024-11-12T10:09:43.597114",
     "exception": false,
     "start_time": "2024-11-12T10:09:43.570017",
     "status": "completed"
    },
    "tags": []
   },
   "outputs": [],
   "source": [
    "def sample_data(df, num_samples, classes_to_keep):\n",
    "    # Sample rows, selecting num_samples of each Label.\n",
    "    df = (\n",
    "        df.groupby(\"Label\")[df.columns]\n",
    "        .apply(lambda x: x.sample(num_samples))\n",
    "        .reset_index(drop=True)\n",
    "    )\n",
    "\n",
    "    df = df[df[\"Class Name\"].str.contains(classes_to_keep)]\n",
    "\n",
    "    # We have fewer categories now, so re-calibrate the label encoding.\n",
    "    df[\"Class Name\"] = df[\"Class Name\"].astype(\"category\")\n",
    "    df[\"Encoded Label\"] = df[\"Class Name\"].cat.codes\n",
    "\n",
    "    return df"
   ]
  },
  {
   "cell_type": "code",
   "execution_count": 10,
   "id": "90604d92",
   "metadata": {
    "execution": {
     "iopub.execute_input": "2024-11-12T10:09:43.624781Z",
     "iopub.status.busy": "2024-11-12T10:09:43.624282Z",
     "iopub.status.idle": "2024-11-12T10:09:43.685934Z",
     "shell.execute_reply": "2024-11-12T10:09:43.684531Z"
    },
    "id": "jS2g_ZGupBUb",
    "papermill": {
     "duration": 0.078171,
     "end_time": "2024-11-12T10:09:43.688914",
     "exception": false,
     "start_time": "2024-11-12T10:09:43.610743",
     "status": "completed"
    },
    "tags": []
   },
   "outputs": [],
   "source": [
    "TRAIN_NUM_SAMPLES = 100\n",
    "TEST_NUM_SAMPLES = 25\n",
    "CLASSES_TO_KEEP = \"sci\"  # Class name should contain 'sci' to keep science categories\n",
    "\n",
    "df_train = sample_data(df_train, TRAIN_NUM_SAMPLES, CLASSES_TO_KEEP)\n",
    "df_test = sample_data(df_test, TEST_NUM_SAMPLES, CLASSES_TO_KEEP)"
   ]
  },
  {
   "cell_type": "code",
   "execution_count": 11,
   "id": "9f43c16d",
   "metadata": {
    "execution": {
     "iopub.execute_input": "2024-11-12T10:09:43.715240Z",
     "iopub.status.busy": "2024-11-12T10:09:43.714738Z",
     "iopub.status.idle": "2024-11-12T10:09:43.735532Z",
     "shell.execute_reply": "2024-11-12T10:09:43.733837Z"
    },
    "id": "j04TMPY8rV5q",
    "papermill": {
     "duration": 0.037345,
     "end_time": "2024-11-12T10:09:43.738502",
     "exception": false,
     "start_time": "2024-11-12T10:09:43.701157",
     "status": "completed"
    },
    "tags": []
   },
   "outputs": [
    {
     "data": {
      "text/plain": [
       "Class Name\n",
       "sci.crypt          100\n",
       "sci.electronics    100\n",
       "sci.med            100\n",
       "sci.space          100\n",
       "Name: count, dtype: int64"
      ]
     },
     "execution_count": 11,
     "metadata": {},
     "output_type": "execute_result"
    }
   ],
   "source": [
    "df_train.value_counts(\"Class Name\")"
   ]
  },
  {
   "cell_type": "code",
   "execution_count": 12,
   "id": "9b673e87",
   "metadata": {
    "execution": {
     "iopub.execute_input": "2024-11-12T10:09:43.767020Z",
     "iopub.status.busy": "2024-11-12T10:09:43.765884Z",
     "iopub.status.idle": "2024-11-12T10:09:43.777494Z",
     "shell.execute_reply": "2024-11-12T10:09:43.776290Z"
    },
    "id": "qMsnfkVDsJlU",
    "papermill": {
     "duration": 0.029737,
     "end_time": "2024-11-12T10:09:43.781064",
     "exception": false,
     "start_time": "2024-11-12T10:09:43.751327",
     "status": "completed"
    },
    "tags": []
   },
   "outputs": [
    {
     "data": {
      "text/plain": [
       "Class Name\n",
       "sci.crypt          25\n",
       "sci.electronics    25\n",
       "sci.med            25\n",
       "sci.space          25\n",
       "Name: count, dtype: int64"
      ]
     },
     "execution_count": 12,
     "metadata": {},
     "output_type": "execute_result"
    }
   ],
   "source": [
    "df_test.value_counts(\"Class Name\")"
   ]
  },
  {
   "cell_type": "markdown",
   "id": "b12d77cf",
   "metadata": {
    "id": "Kr-WlKzXjYWn",
    "papermill": {
     "duration": 0.011881,
     "end_time": "2024-11-12T10:09:43.806604",
     "exception": false,
     "start_time": "2024-11-12T10:09:43.794723",
     "status": "completed"
    },
    "tags": []
   },
   "source": [
    "## Create the embeddings\n",
    "\n",
    "In this section, you will generate embeddings for each piece of text using the Gemini API embeddings endpoint. To learn more about embeddings, visit the [embeddings guide](https://ai.google.dev/docs/embeddings_guide).\n",
    "\n",
    "**NOTE**: Embeddings are computed one at a time, so large sample sizes can take a long time!"
   ]
  },
  {
   "cell_type": "markdown",
   "id": "e12d1e74",
   "metadata": {
    "id": "yPECMeE2xYA_",
    "papermill": {
     "duration": 0.01199,
     "end_time": "2024-11-12T10:09:43.831197",
     "exception": false,
     "start_time": "2024-11-12T10:09:43.819207",
     "status": "completed"
    },
    "tags": []
   },
   "source": [
    "### Task types\n",
    "\n",
    "The `text-embedding-004` model supports a task type parameter that generates embeddings tailored for the specific task.\n",
    "\n",
    "Task Type | Description\n",
    "---       | ---\n",
    "RETRIEVAL_QUERY\t| Specifies the given text is a query in a search/retrieval setting.\n",
    "RETRIEVAL_DOCUMENT | Specifies the given text is a document in a search/retrieval setting.\n",
    "SEMANTIC_SIMILARITY\t| Specifies the given text will be used for Semantic Textual Similarity (STS).\n",
    "CLASSIFICATION\t| Specifies that the embeddings will be used for classification.\n",
    "CLUSTERING\t| Specifies that the embeddings will be used for clustering.\n",
    "FACT_VERIFICATION | Specifies that the given text will be used for fact verification.\n",
    "\n",
    "For this example you will be performing classification."
   ]
  },
  {
   "cell_type": "code",
   "execution_count": 13,
   "id": "39a008bf",
   "metadata": {
    "execution": {
     "iopub.execute_input": "2024-11-12T10:09:43.858376Z",
     "iopub.status.busy": "2024-11-12T10:09:43.857898Z",
     "iopub.status.idle": "2024-11-12T10:09:43.867186Z",
     "shell.execute_reply": "2024-11-12T10:09:43.865781Z"
    },
    "id": "MTBGKkPQsotz",
    "papermill": {
     "duration": 0.026591,
     "end_time": "2024-11-12T10:09:43.869968",
     "exception": false,
     "start_time": "2024-11-12T10:09:43.843377",
     "status": "completed"
    },
    "tags": []
   },
   "outputs": [],
   "source": [
    "from tqdm.auto import tqdm\n",
    "\n",
    "tqdm.pandas()\n",
    "\n",
    "from google.api_core import retry\n",
    "\n",
    "\n",
    "@retry.Retry(timeout=300.0)\n",
    "def embed_fn(text: str) -> list[float]:\n",
    "    # You will be performing classification, so set task_type accordingly.\n",
    "    response = genai.embed_content(\n",
    "        model=\"models/text-embedding-004\", content=text, task_type=\"classification\"\n",
    "    )\n",
    "\n",
    "    return response[\"embedding\"]\n",
    "\n",
    "\n",
    "def create_embeddings(df):\n",
    "    df[\"Embeddings\"] = df[\"Text\"].progress_apply(embed_fn)\n",
    "    return df"
   ]
  },
  {
   "cell_type": "markdown",
   "id": "206deb20",
   "metadata": {
    "id": "HVDwY8F2kW2O",
    "papermill": {
     "duration": 0.012351,
     "end_time": "2024-11-12T10:09:43.894508",
     "exception": false,
     "start_time": "2024-11-12T10:09:43.882157",
     "status": "completed"
    },
    "tags": []
   },
   "source": [
    "This code is optimised for clarity, and is not particularly fast. It is left as an exercise for the reader to implement [batch](https://ai.google.dev/api/embeddings#method:-models.batchembedcontents) or parallel/asynchronous embedding generation. Running this step will take some time."
   ]
  },
  {
   "cell_type": "code",
   "execution_count": 14,
   "id": "832b04f7",
   "metadata": {
    "execution": {
     "iopub.execute_input": "2024-11-12T10:09:43.924502Z",
     "iopub.status.busy": "2024-11-12T10:09:43.923992Z",
     "iopub.status.idle": "2024-11-12T10:11:11.931301Z",
     "shell.execute_reply": "2024-11-12T10:11:11.929865Z"
    },
    "id": "AH0yrHUHtHtw",
    "papermill": {
     "duration": 88.027695,
     "end_time": "2024-11-12T10:11:11.934330",
     "exception": false,
     "start_time": "2024-11-12T10:09:43.906635",
     "status": "completed"
    },
    "tags": []
   },
   "outputs": [
    {
     "data": {
      "application/vnd.jupyter.widget-view+json": {
       "model_id": "272697bef9784d9f89f2efb824d96e99",
       "version_major": 2,
       "version_minor": 0
      },
      "text/plain": [
       "  0%|          | 0/400 [00:00<?, ?it/s]"
      ]
     },
     "metadata": {},
     "output_type": "display_data"
    },
    {
     "data": {
      "application/vnd.jupyter.widget-view+json": {
       "model_id": "cecf3e5a3d044530acadcb291bb6657e",
       "version_major": 2,
       "version_minor": 0
      },
      "text/plain": [
       "  0%|          | 0/100 [00:00<?, ?it/s]"
      ]
     },
     "metadata": {},
     "output_type": "display_data"
    }
   ],
   "source": [
    "df_train = create_embeddings(df_train)\n",
    "df_test = create_embeddings(df_test)"
   ]
  },
  {
   "cell_type": "code",
   "execution_count": 15,
   "id": "b5f86df1",
   "metadata": {
    "execution": {
     "iopub.execute_input": "2024-11-12T10:11:11.961614Z",
     "iopub.status.busy": "2024-11-12T10:11:11.961149Z",
     "iopub.status.idle": "2024-11-12T10:11:11.984083Z",
     "shell.execute_reply": "2024-11-12T10:11:11.982935Z"
    },
    "id": "6G5TvLlmRjHc",
    "papermill": {
     "duration": 0.039459,
     "end_time": "2024-11-12T10:11:11.986611",
     "exception": false,
     "start_time": "2024-11-12T10:11:11.947152",
     "status": "completed"
    },
    "tags": []
   },
   "outputs": [
    {
     "data": {
      "text/html": [
       "<div>\n",
       "<style scoped>\n",
       "    .dataframe tbody tr th:only-of-type {\n",
       "        vertical-align: middle;\n",
       "    }\n",
       "\n",
       "    .dataframe tbody tr th {\n",
       "        vertical-align: top;\n",
       "    }\n",
       "\n",
       "    .dataframe thead th {\n",
       "        text-align: right;\n",
       "    }\n",
       "</style>\n",
       "<table border=\"1\" class=\"dataframe\">\n",
       "  <thead>\n",
       "    <tr style=\"text-align: right;\">\n",
       "      <th></th>\n",
       "      <th>Text</th>\n",
       "      <th>Label</th>\n",
       "      <th>Class Name</th>\n",
       "      <th>Encoded Label</th>\n",
       "      <th>Embeddings</th>\n",
       "    </tr>\n",
       "  </thead>\n",
       "  <tbody>\n",
       "    <tr>\n",
       "      <th>1100</th>\n",
       "      <td>Licensing...\\n\\n\\n&gt;This actually supports Bill...</td>\n",
       "      <td>11</td>\n",
       "      <td>sci.crypt</td>\n",
       "      <td>0</td>\n",
       "      <td>[-0.0033027204, 0.020149175, -0.028141337, 0.0...</td>\n",
       "    </tr>\n",
       "    <tr>\n",
       "      <th>1101</th>\n",
       "      <td>Re: Secret algorithm [Re: Clipper Chip and cry...</td>\n",
       "      <td>11</td>\n",
       "      <td>sci.crypt</td>\n",
       "      <td>0</td>\n",
       "      <td>[0.0016654356, 0.03345819, -0.027635269, 0.046...</td>\n",
       "    </tr>\n",
       "    <tr>\n",
       "      <th>1102</th>\n",
       "      <td>Re: Clipper considered harmful\\n\\n: From:  (Ke...</td>\n",
       "      <td>11</td>\n",
       "      <td>sci.crypt</td>\n",
       "      <td>0</td>\n",
       "      <td>[0.010772227, 0.0253407, -0.08045046, 0.009693...</td>\n",
       "    </tr>\n",
       "    <tr>\n",
       "      <th>1103</th>\n",
       "      <td>Re: Secret algorithm [Re: Clipper Chip and cry...</td>\n",
       "      <td>11</td>\n",
       "      <td>sci.crypt</td>\n",
       "      <td>0</td>\n",
       "      <td>[-0.014901155, 0.009361536, -0.028959773, 0.04...</td>\n",
       "    </tr>\n",
       "    <tr>\n",
       "      <th>1104</th>\n",
       "      <td>Re: PGP ideas for IBM systems\\n\\n:    I've bee...</td>\n",
       "      <td>11</td>\n",
       "      <td>sci.crypt</td>\n",
       "      <td>0</td>\n",
       "      <td>[-0.0021864863, 0.009111009, -0.03448642, 0.02...</td>\n",
       "    </tr>\n",
       "  </tbody>\n",
       "</table>\n",
       "</div>"
      ],
      "text/plain": [
       "                                                   Text  Label Class Name  \\\n",
       "1100  Licensing...\\n\\n\\n>This actually supports Bill...     11  sci.crypt   \n",
       "1101  Re: Secret algorithm [Re: Clipper Chip and cry...     11  sci.crypt   \n",
       "1102  Re: Clipper considered harmful\\n\\n: From:  (Ke...     11  sci.crypt   \n",
       "1103  Re: Secret algorithm [Re: Clipper Chip and cry...     11  sci.crypt   \n",
       "1104  Re: PGP ideas for IBM systems\\n\\n:    I've bee...     11  sci.crypt   \n",
       "\n",
       "      Encoded Label                                         Embeddings  \n",
       "1100              0  [-0.0033027204, 0.020149175, -0.028141337, 0.0...  \n",
       "1101              0  [0.0016654356, 0.03345819, -0.027635269, 0.046...  \n",
       "1102              0  [0.010772227, 0.0253407, -0.08045046, 0.009693...  \n",
       "1103              0  [-0.014901155, 0.009361536, -0.028959773, 0.04...  \n",
       "1104              0  [-0.0021864863, 0.009111009, -0.03448642, 0.02...  "
      ]
     },
     "execution_count": 15,
     "metadata": {},
     "output_type": "execute_result"
    }
   ],
   "source": [
    "df_train.head()"
   ]
  },
  {
   "cell_type": "markdown",
   "id": "5e24245f",
   "metadata": {
    "id": "QPYEYkIsWt_5",
    "papermill": {
     "duration": 0.012673,
     "end_time": "2024-11-12T10:11:12.012205",
     "exception": false,
     "start_time": "2024-11-12T10:11:11.999532",
     "status": "completed"
    },
    "tags": []
   },
   "source": [
    "## Build a simple classification model\n",
    "\n",
    "Here you will define a simple model that accepts the raw embedding data as input, has one hidden layer, and an output layer specifying the class probabilities. The prediction will correspond to the probability of a piece of text being a particular class of news.\n",
    "\n",
    "When you run the model, Keras will take care of details like shuffling the data points, calculating metrics and other ML boilerplate."
   ]
  },
  {
   "cell_type": "code",
   "execution_count": 16,
   "id": "13376b6e",
   "metadata": {
    "execution": {
     "iopub.execute_input": "2024-11-12T10:11:12.039508Z",
     "iopub.status.busy": "2024-11-12T10:11:12.039080Z",
     "iopub.status.idle": "2024-11-12T10:11:27.812091Z",
     "shell.execute_reply": "2024-11-12T10:11:27.810824Z"
    },
    "id": "3oLGi4w5JsQR",
    "papermill": {
     "duration": 15.790266,
     "end_time": "2024-11-12T10:11:27.815082",
     "exception": false,
     "start_time": "2024-11-12T10:11:12.024816",
     "status": "completed"
    },
    "tags": []
   },
   "outputs": [],
   "source": [
    "import keras\n",
    "from keras import layers\n",
    "\n",
    "\n",
    "def build_classification_model(input_size: int, num_classes: int) -> keras.Model:\n",
    "    return keras.Sequential(\n",
    "        [\n",
    "            layers.Input([input_size], name=\"embedding_inputs\"),\n",
    "            layers.Dense(input_size, activation=\"relu\", name=\"hidden\"),\n",
    "            layers.Dense(num_classes, activation=\"softmax\", name=\"output_probs\"),\n",
    "        ]\n",
    "    )"
   ]
  },
  {
   "cell_type": "code",
   "execution_count": 17,
   "id": "2762ebac",
   "metadata": {
    "execution": {
     "iopub.execute_input": "2024-11-12T10:11:27.843975Z",
     "iopub.status.busy": "2024-11-12T10:11:27.843174Z",
     "iopub.status.idle": "2024-11-12T10:11:27.973204Z",
     "shell.execute_reply": "2024-11-12T10:11:27.972013Z"
    },
    "id": "kORA1Akl5GsG",
    "papermill": {
     "duration": 0.14811,
     "end_time": "2024-11-12T10:11:27.976182",
     "exception": false,
     "start_time": "2024-11-12T10:11:27.828072",
     "status": "completed"
    },
    "tags": []
   },
   "outputs": [
    {
     "data": {
      "text/html": [
       "<pre style=\"white-space:pre;overflow-x:auto;line-height:normal;font-family:Menlo,'DejaVu Sans Mono',consolas,'Courier New',monospace\"><span style=\"font-weight: bold\">Model: \"sequential\"</span>\n",
       "</pre>\n"
      ],
      "text/plain": [
       "\u001b[1mModel: \"sequential\"\u001b[0m\n"
      ]
     },
     "metadata": {},
     "output_type": "display_data"
    },
    {
     "data": {
      "text/html": [
       "<pre style=\"white-space:pre;overflow-x:auto;line-height:normal;font-family:Menlo,'DejaVu Sans Mono',consolas,'Courier New',monospace\">┏━━━━━━━━━━━━━━━━━━━━━━━━━━━━━━━━━┳━━━━━━━━━━━━━━━━━━━━━━━━┳━━━━━━━━━━━━━━━┓\n",
       "┃<span style=\"font-weight: bold\"> Layer (type)                    </span>┃<span style=\"font-weight: bold\"> Output Shape           </span>┃<span style=\"font-weight: bold\">       Param # </span>┃\n",
       "┡━━━━━━━━━━━━━━━━━━━━━━━━━━━━━━━━━╇━━━━━━━━━━━━━━━━━━━━━━━━╇━━━━━━━━━━━━━━━┩\n",
       "│ hidden (<span style=\"color: #0087ff; text-decoration-color: #0087ff\">Dense</span>)                  │ (<span style=\"color: #00d7ff; text-decoration-color: #00d7ff\">None</span>, <span style=\"color: #00af00; text-decoration-color: #00af00\">768</span>)            │       <span style=\"color: #00af00; text-decoration-color: #00af00\">590,592</span> │\n",
       "├─────────────────────────────────┼────────────────────────┼───────────────┤\n",
       "│ output_probs (<span style=\"color: #0087ff; text-decoration-color: #0087ff\">Dense</span>)            │ (<span style=\"color: #00d7ff; text-decoration-color: #00d7ff\">None</span>, <span style=\"color: #00af00; text-decoration-color: #00af00\">4</span>)              │         <span style=\"color: #00af00; text-decoration-color: #00af00\">3,076</span> │\n",
       "└─────────────────────────────────┴────────────────────────┴───────────────┘\n",
       "</pre>\n"
      ],
      "text/plain": [
       "┏━━━━━━━━━━━━━━━━━━━━━━━━━━━━━━━━━┳━━━━━━━━━━━━━━━━━━━━━━━━┳━━━━━━━━━━━━━━━┓\n",
       "┃\u001b[1m \u001b[0m\u001b[1mLayer (type)                   \u001b[0m\u001b[1m \u001b[0m┃\u001b[1m \u001b[0m\u001b[1mOutput Shape          \u001b[0m\u001b[1m \u001b[0m┃\u001b[1m \u001b[0m\u001b[1m      Param #\u001b[0m\u001b[1m \u001b[0m┃\n",
       "┡━━━━━━━━━━━━━━━━━━━━━━━━━━━━━━━━━╇━━━━━━━━━━━━━━━━━━━━━━━━╇━━━━━━━━━━━━━━━┩\n",
       "│ hidden (\u001b[38;5;33mDense\u001b[0m)                  │ (\u001b[38;5;45mNone\u001b[0m, \u001b[38;5;34m768\u001b[0m)            │       \u001b[38;5;34m590,592\u001b[0m │\n",
       "├─────────────────────────────────┼────────────────────────┼───────────────┤\n",
       "│ output_probs (\u001b[38;5;33mDense\u001b[0m)            │ (\u001b[38;5;45mNone\u001b[0m, \u001b[38;5;34m4\u001b[0m)              │         \u001b[38;5;34m3,076\u001b[0m │\n",
       "└─────────────────────────────────┴────────────────────────┴───────────────┘\n"
      ]
     },
     "metadata": {},
     "output_type": "display_data"
    },
    {
     "data": {
      "text/html": [
       "<pre style=\"white-space:pre;overflow-x:auto;line-height:normal;font-family:Menlo,'DejaVu Sans Mono',consolas,'Courier New',monospace\"><span style=\"font-weight: bold\"> Total params: </span><span style=\"color: #00af00; text-decoration-color: #00af00\">593,668</span> (2.26 MB)\n",
       "</pre>\n"
      ],
      "text/plain": [
       "\u001b[1m Total params: \u001b[0m\u001b[38;5;34m593,668\u001b[0m (2.26 MB)\n"
      ]
     },
     "metadata": {},
     "output_type": "display_data"
    },
    {
     "data": {
      "text/html": [
       "<pre style=\"white-space:pre;overflow-x:auto;line-height:normal;font-family:Menlo,'DejaVu Sans Mono',consolas,'Courier New',monospace\"><span style=\"font-weight: bold\"> Trainable params: </span><span style=\"color: #00af00; text-decoration-color: #00af00\">593,668</span> (2.26 MB)\n",
       "</pre>\n"
      ],
      "text/plain": [
       "\u001b[1m Trainable params: \u001b[0m\u001b[38;5;34m593,668\u001b[0m (2.26 MB)\n"
      ]
     },
     "metadata": {},
     "output_type": "display_data"
    },
    {
     "data": {
      "text/html": [
       "<pre style=\"white-space:pre;overflow-x:auto;line-height:normal;font-family:Menlo,'DejaVu Sans Mono',consolas,'Courier New',monospace\"><span style=\"font-weight: bold\"> Non-trainable params: </span><span style=\"color: #00af00; text-decoration-color: #00af00\">0</span> (0.00 B)\n",
       "</pre>\n"
      ],
      "text/plain": [
       "\u001b[1m Non-trainable params: \u001b[0m\u001b[38;5;34m0\u001b[0m (0.00 B)\n"
      ]
     },
     "metadata": {},
     "output_type": "display_data"
    }
   ],
   "source": [
    "# Derive the embedding size from observing the data. The embedding size can also be specified\n",
    "# with the `output_dimensionality` parameter to `embed_content` if you need to reduce it.\n",
    "embedding_size = len(df_train[\"Embeddings\"].iloc[0])\n",
    "\n",
    "classifier = build_classification_model(\n",
    "    embedding_size, len(df_train[\"Class Name\"].unique())\n",
    ")\n",
    "classifier.summary()\n",
    "\n",
    "classifier.compile(\n",
    "    loss=keras.losses.SparseCategoricalCrossentropy(),\n",
    "    optimizer=keras.optimizers.Adam(learning_rate=0.001),\n",
    "    metrics=[\"accuracy\"],\n",
    ")"
   ]
  },
  {
   "cell_type": "markdown",
   "id": "8c158375",
   "metadata": {
    "id": "kbpTGGiMXDxl",
    "papermill": {
     "duration": 0.014495,
     "end_time": "2024-11-12T10:11:28.005058",
     "exception": false,
     "start_time": "2024-11-12T10:11:27.990563",
     "status": "completed"
    },
    "tags": []
   },
   "source": [
    "## Train the model\n",
    "\n",
    "Finally, you can train your model. This code uses early stopping to exit the training loop once the loss value stabilises, so the number of epoch loops executed may differ from the specified value."
   ]
  },
  {
   "cell_type": "code",
   "execution_count": 18,
   "id": "18b42f23",
   "metadata": {
    "execution": {
     "iopub.execute_input": "2024-11-12T10:11:28.034842Z",
     "iopub.status.busy": "2024-11-12T10:11:28.034355Z",
     "iopub.status.idle": "2024-11-12T10:11:31.064696Z",
     "shell.execute_reply": "2024-11-12T10:11:31.063324Z"
    },
    "id": "bGgvMZGfJ1A4",
    "papermill": {
     "duration": 3.048762,
     "end_time": "2024-11-12T10:11:31.067661",
     "exception": false,
     "start_time": "2024-11-12T10:11:28.018899",
     "status": "completed"
    },
    "tags": []
   },
   "outputs": [
    {
     "name": "stdout",
     "output_type": "stream",
     "text": [
      "Epoch 1/20\n",
      "\u001b[1m13/13\u001b[0m \u001b[32m━━━━━━━━━━━━━━━━━━━━\u001b[0m\u001b[37m\u001b[0m \u001b[1m1s\u001b[0m 27ms/step - accuracy: 0.3180 - loss: 1.3567 - val_accuracy: 0.5300 - val_loss: 1.2787\n",
      "Epoch 2/20\n",
      "\u001b[1m13/13\u001b[0m \u001b[32m━━━━━━━━━━━━━━━━━━━━\u001b[0m\u001b[37m\u001b[0m \u001b[1m0s\u001b[0m 9ms/step - accuracy: 0.7557 - loss: 1.1745 - val_accuracy: 0.7600 - val_loss: 1.1381\n",
      "Epoch 3/20\n",
      "\u001b[1m13/13\u001b[0m \u001b[32m━━━━━━━━━━━━━━━━━━━━\u001b[0m\u001b[37m\u001b[0m \u001b[1m0s\u001b[0m 10ms/step - accuracy: 0.8878 - loss: 0.9875 - val_accuracy: 0.7600 - val_loss: 1.0068\n",
      "Epoch 4/20\n",
      "\u001b[1m13/13\u001b[0m \u001b[32m━━━━━━━━━━━━━━━━━━━━\u001b[0m\u001b[37m\u001b[0m \u001b[1m0s\u001b[0m 11ms/step - accuracy: 0.8684 - loss: 0.7986 - val_accuracy: 0.6200 - val_loss: 0.9276\n",
      "Epoch 5/20\n",
      "\u001b[1m13/13\u001b[0m \u001b[32m━━━━━━━━━━━━━━━━━━━━\u001b[0m\u001b[37m\u001b[0m \u001b[1m0s\u001b[0m 10ms/step - accuracy: 0.8634 - loss: 0.6651 - val_accuracy: 0.7800 - val_loss: 0.7695\n",
      "Epoch 6/20\n",
      "\u001b[1m13/13\u001b[0m \u001b[32m━━━━━━━━━━━━━━━━━━━━\u001b[0m\u001b[37m\u001b[0m \u001b[1m0s\u001b[0m 9ms/step - accuracy: 0.9470 - loss: 0.4854 - val_accuracy: 0.7800 - val_loss: 0.6921\n",
      "Epoch 7/20\n",
      "\u001b[1m13/13\u001b[0m \u001b[32m━━━━━━━━━━━━━━━━━━━━\u001b[0m\u001b[37m\u001b[0m \u001b[1m0s\u001b[0m 9ms/step - accuracy: 0.9715 - loss: 0.3768 - val_accuracy: 0.8100 - val_loss: 0.6380\n",
      "Epoch 8/20\n",
      "\u001b[1m13/13\u001b[0m \u001b[32m━━━━━━━━━━━━━━━━━━━━\u001b[0m\u001b[37m\u001b[0m \u001b[1m0s\u001b[0m 10ms/step - accuracy: 0.9618 - loss: 0.3206 - val_accuracy: 0.7800 - val_loss: 0.5994\n",
      "Epoch 9/20\n",
      "\u001b[1m13/13\u001b[0m \u001b[32m━━━━━━━━━━━━━━━━━━━━\u001b[0m\u001b[37m\u001b[0m \u001b[1m0s\u001b[0m 9ms/step - accuracy: 0.9455 - loss: 0.2742 - val_accuracy: 0.8100 - val_loss: 0.5778\n",
      "Epoch 10/20\n",
      "\u001b[1m13/13\u001b[0m \u001b[32m━━━━━━━━━━━━━━━━━━━━\u001b[0m\u001b[37m\u001b[0m \u001b[1m0s\u001b[0m 9ms/step - accuracy: 0.9628 - loss: 0.2189 - val_accuracy: 0.8300 - val_loss: 0.5423\n"
     ]
    }
   ],
   "source": [
    "import numpy as np\n",
    "\n",
    "\n",
    "NUM_EPOCHS = 20\n",
    "BATCH_SIZE = 32\n",
    "\n",
    "# Split the x and y components of the train and validation subsets.\n",
    "y_train = df_train[\"Encoded Label\"]\n",
    "x_train = np.stack(df_train[\"Embeddings\"])\n",
    "y_val = df_test[\"Encoded Label\"]\n",
    "x_val = np.stack(df_test[\"Embeddings\"])\n",
    "\n",
    "# Specify that it's OK to stop early if accuracy stabilises.\n",
    "early_stop = keras.callbacks.EarlyStopping(monitor=\"accuracy\", patience=3)\n",
    "\n",
    "# Train the model for the desired number of epochs.\n",
    "history = classifier.fit(\n",
    "    x=x_train,\n",
    "    y=y_train,\n",
    "    validation_data=(x_val, y_val),\n",
    "    callbacks=[early_stop],\n",
    "    batch_size=BATCH_SIZE,\n",
    "    epochs=NUM_EPOCHS,\n",
    ")"
   ]
  },
  {
   "cell_type": "markdown",
   "id": "2f8d74a1",
   "metadata": {
    "id": "xGBaDHZUPdJO",
    "papermill": {
     "duration": 0.017905,
     "end_time": "2024-11-12T10:11:31.104072",
     "exception": false,
     "start_time": "2024-11-12T10:11:31.086167",
     "status": "completed"
    },
    "tags": []
   },
   "source": [
    "## Evaluate model performance\n",
    "\n",
    "Use Keras <a href=\"https://www.tensorflow.org/api_docs/python/tf/keras/Model#evaluate\"><code>Model.evaluate</code></a> to calculate the loss and accuracy on the test dataset."
   ]
  },
  {
   "cell_type": "code",
   "execution_count": 19,
   "id": "e6af4aab",
   "metadata": {
    "execution": {
     "iopub.execute_input": "2024-11-12T10:11:31.141733Z",
     "iopub.status.busy": "2024-11-12T10:11:31.141296Z",
     "iopub.status.idle": "2024-11-12T10:11:31.247185Z",
     "shell.execute_reply": "2024-11-12T10:11:31.245646Z"
    },
    "id": "d2kOeiqqQIB8",
    "papermill": {
     "duration": 0.127979,
     "end_time": "2024-11-12T10:11:31.250071",
     "exception": false,
     "start_time": "2024-11-12T10:11:31.122092",
     "status": "completed"
    },
    "tags": []
   },
   "outputs": [
    {
     "name": "stdout",
     "output_type": "stream",
     "text": [
      "\u001b[1m4/4\u001b[0m \u001b[32m━━━━━━━━━━━━━━━━━━━━\u001b[0m\u001b[37m\u001b[0m \u001b[1m0s\u001b[0m 3ms/step - accuracy: 0.8278 - loss: 0.5045 \n"
     ]
    },
    {
     "data": {
      "text/plain": [
       "{'accuracy': 0.8299999833106995, 'loss': 0.5423057675361633}"
      ]
     },
     "execution_count": 19,
     "metadata": {},
     "output_type": "execute_result"
    }
   ],
   "source": [
    "classifier.evaluate(x=x_val, y=y_val, return_dict=True)"
   ]
  },
  {
   "cell_type": "markdown",
   "id": "94a1f611",
   "metadata": {
    "id": "UyxMhiLYQXAN",
    "papermill": {
     "duration": 0.017612,
     "end_time": "2024-11-12T10:11:31.285789",
     "exception": false,
     "start_time": "2024-11-12T10:11:31.268177",
     "status": "completed"
    },
    "tags": []
   },
   "source": [
    "To learn more about training models with Keras, including how to visualise the model training metrics, read [Training & evaluation with built-in methods](https://www.tensorflow.org/guide/keras/training_with_built_in_methods)."
   ]
  },
  {
   "cell_type": "markdown",
   "id": "76bee218",
   "metadata": {
    "id": "XHyP-_torwsm",
    "papermill": {
     "duration": 0.017545,
     "end_time": "2024-11-12T10:11:31.321147",
     "exception": false,
     "start_time": "2024-11-12T10:11:31.303602",
     "status": "completed"
    },
    "tags": []
   },
   "source": [
    "## Try a custom prediction\n",
    "\n",
    "Now that you have a trained model with good evaluation metrics, you can try to make a prediction with new, hand-written data. Use the provided example or try your own data to see how the model performs."
   ]
  },
  {
   "cell_type": "code",
   "execution_count": 20,
   "id": "5f0f0328",
   "metadata": {
    "execution": {
     "iopub.execute_input": "2024-11-12T10:11:31.358975Z",
     "iopub.status.busy": "2024-11-12T10:11:31.358485Z",
     "iopub.status.idle": "2024-11-12T10:11:31.541449Z",
     "shell.execute_reply": "2024-11-12T10:11:31.540153Z"
    },
    "id": "Lj4gR0Mdr2rb",
    "papermill": {
     "duration": 0.20556,
     "end_time": "2024-11-12T10:11:31.544555",
     "exception": false,
     "start_time": "2024-11-12T10:11:31.338995",
     "status": "completed"
    },
    "tags": []
   },
   "outputs": [],
   "source": [
    "# This example avoids any space-specific terminology to see if the model avoids\n",
    "# biases towards specific jargon.\n",
    "new_text = \"\"\"\n",
    "First-timer looking to get out of here.\n",
    "\n",
    "Hi, I'm writing about my interest in travelling to the outer limits!\n",
    "\n",
    "What kind of craft can I buy? What is easiest to access from this 3rd rock?\n",
    "\n",
    "Let me know how to do that please.\n",
    "\"\"\"\n",
    "embedded = embed_fn(new_text)"
   ]
  },
  {
   "cell_type": "code",
   "execution_count": 21,
   "id": "bb4f91ee",
   "metadata": {
    "execution": {
     "iopub.execute_input": "2024-11-12T10:11:31.584907Z",
     "iopub.status.busy": "2024-11-12T10:11:31.584439Z",
     "iopub.status.idle": "2024-11-12T10:11:31.696662Z",
     "shell.execute_reply": "2024-11-12T10:11:31.695345Z"
    },
    "id": "CKTHEMrRsbcu",
    "papermill": {
     "duration": 0.13423,
     "end_time": "2024-11-12T10:11:31.699347",
     "exception": false,
     "start_time": "2024-11-12T10:11:31.565117",
     "status": "completed"
    },
    "tags": []
   },
   "outputs": [
    {
     "name": "stdout",
     "output_type": "stream",
     "text": [
      "\u001b[1m1/1\u001b[0m \u001b[32m━━━━━━━━━━━━━━━━━━━━\u001b[0m\u001b[37m\u001b[0m \u001b[1m0s\u001b[0m 51ms/step\n",
      "sci.crypt: 0.56%\n",
      "sci.electronics: 3.48%\n",
      "sci.med: 1.06%\n",
      "sci.space: 94.90%\n"
     ]
    }
   ],
   "source": [
    "# Remember that the model takes embeddings as input, and the input must be batched,\n",
    "# so here they are passed as a list to provide a batch of 1.\n",
    "inp = np.array([embedded])\n",
    "[result] = classifier.predict(inp)\n",
    "\n",
    "for idx, category in enumerate(df_test[\"Class Name\"].cat.categories):\n",
    "    print(f\"{category}: {result[idx] * 100:0.2f}%\")"
   ]
  }
 ],
 "metadata": {
  "colab": {
   "name": "day-2-classifying-embeddings-with-keras.ipynb",
   "toc_visible": true
  },
  "google": {
   "image_path": "/examples/train_text_classifier_embeddings_files/output_3ae76701e178_0.png",
   "keywords": [
    "examples",
    "googleai",
    "samplecode",
    "python",
    "embed"
   ]
  },
  "kaggle": {
   "accelerator": "none",
   "dataSources": [],
   "dockerImageVersionId": 30786,
   "isGpuEnabled": false,
   "isInternetEnabled": true,
   "language": "python",
   "sourceType": "notebook"
  },
  "kernelspec": {
   "display_name": "Python 3",
   "language": "python",
   "name": "python3"
  },
  "language_info": {
   "codemirror_mode": {
    "name": "ipython",
    "version": 3
   },
   "file_extension": ".py",
   "mimetype": "text/x-python",
   "name": "python",
   "nbconvert_exporter": "python",
   "pygments_lexer": "ipython3",
   "version": "3.10.14"
  },
  "papermill": {
   "default_parameters": {},
   "duration": 178.458554,
   "end_time": "2024-11-12T10:11:33.546645",
   "environment_variables": {},
   "exception": null,
   "input_path": "__notebook__.ipynb",
   "output_path": "__notebook__.ipynb",
   "parameters": {},
   "start_time": "2024-11-12T10:08:35.088091",
   "version": "2.6.0"
  },
  "widgets": {
   "application/vnd.jupyter.widget-state+json": {
    "state": {
     "1125909683cf40d3a5689df5280635d0": {
      "model_module": "@jupyter-widgets/controls",
      "model_module_version": "1.5.0",
      "model_name": "HTMLModel",
      "state": {
       "_dom_classes": [],
       "_model_module": "@jupyter-widgets/controls",
       "_model_module_version": "1.5.0",
       "_model_name": "HTMLModel",
       "_view_count": null,
       "_view_module": "@jupyter-widgets/controls",
       "_view_module_version": "1.5.0",
       "_view_name": "HTMLView",
       "description": "",
       "description_tooltip": null,
       "layout": "IPY_MODEL_b21b7ce1d0be41e0bd9c03629cbab5d7",
       "placeholder": "​",
       "style": "IPY_MODEL_344928a7252d4cdba57cb1720745df85",
       "value": "100%"
      }
     },
     "252ba6b79d8b4b6fa3a2b8715971a168": {
      "model_module": "@jupyter-widgets/controls",
      "model_module_version": "1.5.0",
      "model_name": "FloatProgressModel",
      "state": {
       "_dom_classes": [],
       "_model_module": "@jupyter-widgets/controls",
       "_model_module_version": "1.5.0",
       "_model_name": "FloatProgressModel",
       "_view_count": null,
       "_view_module": "@jupyter-widgets/controls",
       "_view_module_version": "1.5.0",
       "_view_name": "ProgressView",
       "bar_style": "success",
       "description": "",
       "description_tooltip": null,
       "layout": "IPY_MODEL_5ab7e2c44d0a4c4eaa95c9758a6629a8",
       "max": 400.0,
       "min": 0.0,
       "orientation": "horizontal",
       "style": "IPY_MODEL_6b63a99609e2424ea8533289aebf80dc",
       "value": 400.0
      }
     },
     "272697bef9784d9f89f2efb824d96e99": {
      "model_module": "@jupyter-widgets/controls",
      "model_module_version": "1.5.0",
      "model_name": "HBoxModel",
      "state": {
       "_dom_classes": [],
       "_model_module": "@jupyter-widgets/controls",
       "_model_module_version": "1.5.0",
       "_model_name": "HBoxModel",
       "_view_count": null,
       "_view_module": "@jupyter-widgets/controls",
       "_view_module_version": "1.5.0",
       "_view_name": "HBoxView",
       "box_style": "",
       "children": [
        "IPY_MODEL_872c79a0639d4948a9d528c02f4d5859",
        "IPY_MODEL_252ba6b79d8b4b6fa3a2b8715971a168",
        "IPY_MODEL_dc6dd7db3a314459b6bae1b3434cd216"
       ],
       "layout": "IPY_MODEL_bbf3bcf9f5d949e29ef40fff2aaedc12"
      }
     },
     "2e295860321e4f489bae467f014c8f78": {
      "model_module": "@jupyter-widgets/base",
      "model_module_version": "1.2.0",
      "model_name": "LayoutModel",
      "state": {
       "_model_module": "@jupyter-widgets/base",
       "_model_module_version": "1.2.0",
       "_model_name": "LayoutModel",
       "_view_count": null,
       "_view_module": "@jupyter-widgets/base",
       "_view_module_version": "1.2.0",
       "_view_name": "LayoutView",
       "align_content": null,
       "align_items": null,
       "align_self": null,
       "border": null,
       "bottom": null,
       "display": null,
       "flex": null,
       "flex_flow": null,
       "grid_area": null,
       "grid_auto_columns": null,
       "grid_auto_flow": null,
       "grid_auto_rows": null,
       "grid_column": null,
       "grid_gap": null,
       "grid_row": null,
       "grid_template_areas": null,
       "grid_template_columns": null,
       "grid_template_rows": null,
       "height": null,
       "justify_content": null,
       "justify_items": null,
       "left": null,
       "margin": null,
       "max_height": null,
       "max_width": null,
       "min_height": null,
       "min_width": null,
       "object_fit": null,
       "object_position": null,
       "order": null,
       "overflow": null,
       "overflow_x": null,
       "overflow_y": null,
       "padding": null,
       "right": null,
       "top": null,
       "visibility": null,
       "width": null
      }
     },
     "32b3c1bcc948496a82a568894e73266b": {
      "model_module": "@jupyter-widgets/base",
      "model_module_version": "1.2.0",
      "model_name": "LayoutModel",
      "state": {
       "_model_module": "@jupyter-widgets/base",
       "_model_module_version": "1.2.0",
       "_model_name": "LayoutModel",
       "_view_count": null,
       "_view_module": "@jupyter-widgets/base",
       "_view_module_version": "1.2.0",
       "_view_name": "LayoutView",
       "align_content": null,
       "align_items": null,
       "align_self": null,
       "border": null,
       "bottom": null,
       "display": null,
       "flex": null,
       "flex_flow": null,
       "grid_area": null,
       "grid_auto_columns": null,
       "grid_auto_flow": null,
       "grid_auto_rows": null,
       "grid_column": null,
       "grid_gap": null,
       "grid_row": null,
       "grid_template_areas": null,
       "grid_template_columns": null,
       "grid_template_rows": null,
       "height": null,
       "justify_content": null,
       "justify_items": null,
       "left": null,
       "margin": null,
       "max_height": null,
       "max_width": null,
       "min_height": null,
       "min_width": null,
       "object_fit": null,
       "object_position": null,
       "order": null,
       "overflow": null,
       "overflow_x": null,
       "overflow_y": null,
       "padding": null,
       "right": null,
       "top": null,
       "visibility": null,
       "width": null
      }
     },
     "344928a7252d4cdba57cb1720745df85": {
      "model_module": "@jupyter-widgets/controls",
      "model_module_version": "1.5.0",
      "model_name": "DescriptionStyleModel",
      "state": {
       "_model_module": "@jupyter-widgets/controls",
       "_model_module_version": "1.5.0",
       "_model_name": "DescriptionStyleModel",
       "_view_count": null,
       "_view_module": "@jupyter-widgets/base",
       "_view_module_version": "1.2.0",
       "_view_name": "StyleView",
       "description_width": ""
      }
     },
     "50841948ef674967a2e1a9292c5d1438": {
      "model_module": "@jupyter-widgets/controls",
      "model_module_version": "1.5.0",
      "model_name": "DescriptionStyleModel",
      "state": {
       "_model_module": "@jupyter-widgets/controls",
       "_model_module_version": "1.5.0",
       "_model_name": "DescriptionStyleModel",
       "_view_count": null,
       "_view_module": "@jupyter-widgets/base",
       "_view_module_version": "1.2.0",
       "_view_name": "StyleView",
       "description_width": ""
      }
     },
     "5ab7e2c44d0a4c4eaa95c9758a6629a8": {
      "model_module": "@jupyter-widgets/base",
      "model_module_version": "1.2.0",
      "model_name": "LayoutModel",
      "state": {
       "_model_module": "@jupyter-widgets/base",
       "_model_module_version": "1.2.0",
       "_model_name": "LayoutModel",
       "_view_count": null,
       "_view_module": "@jupyter-widgets/base",
       "_view_module_version": "1.2.0",
       "_view_name": "LayoutView",
       "align_content": null,
       "align_items": null,
       "align_self": null,
       "border": null,
       "bottom": null,
       "display": null,
       "flex": null,
       "flex_flow": null,
       "grid_area": null,
       "grid_auto_columns": null,
       "grid_auto_flow": null,
       "grid_auto_rows": null,
       "grid_column": null,
       "grid_gap": null,
       "grid_row": null,
       "grid_template_areas": null,
       "grid_template_columns": null,
       "grid_template_rows": null,
       "height": null,
       "justify_content": null,
       "justify_items": null,
       "left": null,
       "margin": null,
       "max_height": null,
       "max_width": null,
       "min_height": null,
       "min_width": null,
       "object_fit": null,
       "object_position": null,
       "order": null,
       "overflow": null,
       "overflow_x": null,
       "overflow_y": null,
       "padding": null,
       "right": null,
       "top": null,
       "visibility": null,
       "width": null
      }
     },
     "622d4413da354121bad8f34622b4a605": {
      "model_module": "@jupyter-widgets/base",
      "model_module_version": "1.2.0",
      "model_name": "LayoutModel",
      "state": {
       "_model_module": "@jupyter-widgets/base",
       "_model_module_version": "1.2.0",
       "_model_name": "LayoutModel",
       "_view_count": null,
       "_view_module": "@jupyter-widgets/base",
       "_view_module_version": "1.2.0",
       "_view_name": "LayoutView",
       "align_content": null,
       "align_items": null,
       "align_self": null,
       "border": null,
       "bottom": null,
       "display": null,
       "flex": null,
       "flex_flow": null,
       "grid_area": null,
       "grid_auto_columns": null,
       "grid_auto_flow": null,
       "grid_auto_rows": null,
       "grid_column": null,
       "grid_gap": null,
       "grid_row": null,
       "grid_template_areas": null,
       "grid_template_columns": null,
       "grid_template_rows": null,
       "height": null,
       "justify_content": null,
       "justify_items": null,
       "left": null,
       "margin": null,
       "max_height": null,
       "max_width": null,
       "min_height": null,
       "min_width": null,
       "object_fit": null,
       "object_position": null,
       "order": null,
       "overflow": null,
       "overflow_x": null,
       "overflow_y": null,
       "padding": null,
       "right": null,
       "top": null,
       "visibility": null,
       "width": null
      }
     },
     "6b63a99609e2424ea8533289aebf80dc": {
      "model_module": "@jupyter-widgets/controls",
      "model_module_version": "1.5.0",
      "model_name": "ProgressStyleModel",
      "state": {
       "_model_module": "@jupyter-widgets/controls",
       "_model_module_version": "1.5.0",
       "_model_name": "ProgressStyleModel",
       "_view_count": null,
       "_view_module": "@jupyter-widgets/base",
       "_view_module_version": "1.2.0",
       "_view_name": "StyleView",
       "bar_color": null,
       "description_width": ""
      }
     },
     "730bc04927a048daaa96eb1992355fbc": {
      "model_module": "@jupyter-widgets/base",
      "model_module_version": "1.2.0",
      "model_name": "LayoutModel",
      "state": {
       "_model_module": "@jupyter-widgets/base",
       "_model_module_version": "1.2.0",
       "_model_name": "LayoutModel",
       "_view_count": null,
       "_view_module": "@jupyter-widgets/base",
       "_view_module_version": "1.2.0",
       "_view_name": "LayoutView",
       "align_content": null,
       "align_items": null,
       "align_self": null,
       "border": null,
       "bottom": null,
       "display": null,
       "flex": null,
       "flex_flow": null,
       "grid_area": null,
       "grid_auto_columns": null,
       "grid_auto_flow": null,
       "grid_auto_rows": null,
       "grid_column": null,
       "grid_gap": null,
       "grid_row": null,
       "grid_template_areas": null,
       "grid_template_columns": null,
       "grid_template_rows": null,
       "height": null,
       "justify_content": null,
       "justify_items": null,
       "left": null,
       "margin": null,
       "max_height": null,
       "max_width": null,
       "min_height": null,
       "min_width": null,
       "object_fit": null,
       "object_position": null,
       "order": null,
       "overflow": null,
       "overflow_x": null,
       "overflow_y": null,
       "padding": null,
       "right": null,
       "top": null,
       "visibility": null,
       "width": null
      }
     },
     "83bb569f78a847b9ace084b3daf3099c": {
      "model_module": "@jupyter-widgets/controls",
      "model_module_version": "1.5.0",
      "model_name": "FloatProgressModel",
      "state": {
       "_dom_classes": [],
       "_model_module": "@jupyter-widgets/controls",
       "_model_module_version": "1.5.0",
       "_model_name": "FloatProgressModel",
       "_view_count": null,
       "_view_module": "@jupyter-widgets/controls",
       "_view_module_version": "1.5.0",
       "_view_name": "ProgressView",
       "bar_style": "success",
       "description": "",
       "description_tooltip": null,
       "layout": "IPY_MODEL_2e295860321e4f489bae467f014c8f78",
       "max": 100.0,
       "min": 0.0,
       "orientation": "horizontal",
       "style": "IPY_MODEL_ece34afc8f7b40dca8f2f6bb23df4418",
       "value": 100.0
      }
     },
     "872c79a0639d4948a9d528c02f4d5859": {
      "model_module": "@jupyter-widgets/controls",
      "model_module_version": "1.5.0",
      "model_name": "HTMLModel",
      "state": {
       "_dom_classes": [],
       "_model_module": "@jupyter-widgets/controls",
       "_model_module_version": "1.5.0",
       "_model_name": "HTMLModel",
       "_view_count": null,
       "_view_module": "@jupyter-widgets/controls",
       "_view_module_version": "1.5.0",
       "_view_name": "HTMLView",
       "description": "",
       "description_tooltip": null,
       "layout": "IPY_MODEL_622d4413da354121bad8f34622b4a605",
       "placeholder": "​",
       "style": "IPY_MODEL_50841948ef674967a2e1a9292c5d1438",
       "value": "100%"
      }
     },
     "9865ce991b4e47dcbcedd31ed6cacfe3": {
      "model_module": "@jupyter-widgets/controls",
      "model_module_version": "1.5.0",
      "model_name": "HTMLModel",
      "state": {
       "_dom_classes": [],
       "_model_module": "@jupyter-widgets/controls",
       "_model_module_version": "1.5.0",
       "_model_name": "HTMLModel",
       "_view_count": null,
       "_view_module": "@jupyter-widgets/controls",
       "_view_module_version": "1.5.0",
       "_view_name": "HTMLView",
       "description": "",
       "description_tooltip": null,
       "layout": "IPY_MODEL_730bc04927a048daaa96eb1992355fbc",
       "placeholder": "​",
       "style": "IPY_MODEL_efcbec5ed63b4b739a11d4ebc29f33e1",
       "value": " 100/100 [00:17&lt;00:00,  5.72it/s]"
      }
     },
     "a53173a53e4449b6986c38140e3224c7": {
      "model_module": "@jupyter-widgets/base",
      "model_module_version": "1.2.0",
      "model_name": "LayoutModel",
      "state": {
       "_model_module": "@jupyter-widgets/base",
       "_model_module_version": "1.2.0",
       "_model_name": "LayoutModel",
       "_view_count": null,
       "_view_module": "@jupyter-widgets/base",
       "_view_module_version": "1.2.0",
       "_view_name": "LayoutView",
       "align_content": null,
       "align_items": null,
       "align_self": null,
       "border": null,
       "bottom": null,
       "display": null,
       "flex": null,
       "flex_flow": null,
       "grid_area": null,
       "grid_auto_columns": null,
       "grid_auto_flow": null,
       "grid_auto_rows": null,
       "grid_column": null,
       "grid_gap": null,
       "grid_row": null,
       "grid_template_areas": null,
       "grid_template_columns": null,
       "grid_template_rows": null,
       "height": null,
       "justify_content": null,
       "justify_items": null,
       "left": null,
       "margin": null,
       "max_height": null,
       "max_width": null,
       "min_height": null,
       "min_width": null,
       "object_fit": null,
       "object_position": null,
       "order": null,
       "overflow": null,
       "overflow_x": null,
       "overflow_y": null,
       "padding": null,
       "right": null,
       "top": null,
       "visibility": null,
       "width": null
      }
     },
     "b21b7ce1d0be41e0bd9c03629cbab5d7": {
      "model_module": "@jupyter-widgets/base",
      "model_module_version": "1.2.0",
      "model_name": "LayoutModel",
      "state": {
       "_model_module": "@jupyter-widgets/base",
       "_model_module_version": "1.2.0",
       "_model_name": "LayoutModel",
       "_view_count": null,
       "_view_module": "@jupyter-widgets/base",
       "_view_module_version": "1.2.0",
       "_view_name": "LayoutView",
       "align_content": null,
       "align_items": null,
       "align_self": null,
       "border": null,
       "bottom": null,
       "display": null,
       "flex": null,
       "flex_flow": null,
       "grid_area": null,
       "grid_auto_columns": null,
       "grid_auto_flow": null,
       "grid_auto_rows": null,
       "grid_column": null,
       "grid_gap": null,
       "grid_row": null,
       "grid_template_areas": null,
       "grid_template_columns": null,
       "grid_template_rows": null,
       "height": null,
       "justify_content": null,
       "justify_items": null,
       "left": null,
       "margin": null,
       "max_height": null,
       "max_width": null,
       "min_height": null,
       "min_width": null,
       "object_fit": null,
       "object_position": null,
       "order": null,
       "overflow": null,
       "overflow_x": null,
       "overflow_y": null,
       "padding": null,
       "right": null,
       "top": null,
       "visibility": null,
       "width": null
      }
     },
     "bbf3bcf9f5d949e29ef40fff2aaedc12": {
      "model_module": "@jupyter-widgets/base",
      "model_module_version": "1.2.0",
      "model_name": "LayoutModel",
      "state": {
       "_model_module": "@jupyter-widgets/base",
       "_model_module_version": "1.2.0",
       "_model_name": "LayoutModel",
       "_view_count": null,
       "_view_module": "@jupyter-widgets/base",
       "_view_module_version": "1.2.0",
       "_view_name": "LayoutView",
       "align_content": null,
       "align_items": null,
       "align_self": null,
       "border": null,
       "bottom": null,
       "display": null,
       "flex": null,
       "flex_flow": null,
       "grid_area": null,
       "grid_auto_columns": null,
       "grid_auto_flow": null,
       "grid_auto_rows": null,
       "grid_column": null,
       "grid_gap": null,
       "grid_row": null,
       "grid_template_areas": null,
       "grid_template_columns": null,
       "grid_template_rows": null,
       "height": null,
       "justify_content": null,
       "justify_items": null,
       "left": null,
       "margin": null,
       "max_height": null,
       "max_width": null,
       "min_height": null,
       "min_width": null,
       "object_fit": null,
       "object_position": null,
       "order": null,
       "overflow": null,
       "overflow_x": null,
       "overflow_y": null,
       "padding": null,
       "right": null,
       "top": null,
       "visibility": null,
       "width": null
      }
     },
     "cecf3e5a3d044530acadcb291bb6657e": {
      "model_module": "@jupyter-widgets/controls",
      "model_module_version": "1.5.0",
      "model_name": "HBoxModel",
      "state": {
       "_dom_classes": [],
       "_model_module": "@jupyter-widgets/controls",
       "_model_module_version": "1.5.0",
       "_model_name": "HBoxModel",
       "_view_count": null,
       "_view_module": "@jupyter-widgets/controls",
       "_view_module_version": "1.5.0",
       "_view_name": "HBoxView",
       "box_style": "",
       "children": [
        "IPY_MODEL_1125909683cf40d3a5689df5280635d0",
        "IPY_MODEL_83bb569f78a847b9ace084b3daf3099c",
        "IPY_MODEL_9865ce991b4e47dcbcedd31ed6cacfe3"
       ],
       "layout": "IPY_MODEL_a53173a53e4449b6986c38140e3224c7"
      }
     },
     "dc6dd7db3a314459b6bae1b3434cd216": {
      "model_module": "@jupyter-widgets/controls",
      "model_module_version": "1.5.0",
      "model_name": "HTMLModel",
      "state": {
       "_dom_classes": [],
       "_model_module": "@jupyter-widgets/controls",
       "_model_module_version": "1.5.0",
       "_model_name": "HTMLModel",
       "_view_count": null,
       "_view_module": "@jupyter-widgets/controls",
       "_view_module_version": "1.5.0",
       "_view_name": "HTMLView",
       "description": "",
       "description_tooltip": null,
       "layout": "IPY_MODEL_32b3c1bcc948496a82a568894e73266b",
       "placeholder": "​",
       "style": "IPY_MODEL_f1e5ba97c0be4380a1a447377be9434b",
       "value": " 400/400 [01:10&lt;00:00,  5.75it/s]"
      }
     },
     "ece34afc8f7b40dca8f2f6bb23df4418": {
      "model_module": "@jupyter-widgets/controls",
      "model_module_version": "1.5.0",
      "model_name": "ProgressStyleModel",
      "state": {
       "_model_module": "@jupyter-widgets/controls",
       "_model_module_version": "1.5.0",
       "_model_name": "ProgressStyleModel",
       "_view_count": null,
       "_view_module": "@jupyter-widgets/base",
       "_view_module_version": "1.2.0",
       "_view_name": "StyleView",
       "bar_color": null,
       "description_width": ""
      }
     },
     "efcbec5ed63b4b739a11d4ebc29f33e1": {
      "model_module": "@jupyter-widgets/controls",
      "model_module_version": "1.5.0",
      "model_name": "DescriptionStyleModel",
      "state": {
       "_model_module": "@jupyter-widgets/controls",
       "_model_module_version": "1.5.0",
       "_model_name": "DescriptionStyleModel",
       "_view_count": null,
       "_view_module": "@jupyter-widgets/base",
       "_view_module_version": "1.2.0",
       "_view_name": "StyleView",
       "description_width": ""
      }
     },
     "f1e5ba97c0be4380a1a447377be9434b": {
      "model_module": "@jupyter-widgets/controls",
      "model_module_version": "1.5.0",
      "model_name": "DescriptionStyleModel",
      "state": {
       "_model_module": "@jupyter-widgets/controls",
       "_model_module_version": "1.5.0",
       "_model_name": "DescriptionStyleModel",
       "_view_count": null,
       "_view_module": "@jupyter-widgets/base",
       "_view_module_version": "1.2.0",
       "_view_name": "StyleView",
       "description_width": ""
      }
     }
    },
    "version_major": 2,
    "version_minor": 0
   }
  }
 },
 "nbformat": 4,
 "nbformat_minor": 5
}
