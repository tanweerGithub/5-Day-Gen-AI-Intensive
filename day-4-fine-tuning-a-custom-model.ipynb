{
 "cells": [
  {
   "cell_type": "markdown",
   "id": "d9eec13e",
   "metadata": {
    "id": "b6e13eef3f5d",
    "papermill": {
     "duration": 0.00941,
     "end_time": "2024-11-14T06:28:36.629862",
     "exception": false,
     "start_time": "2024-11-14T06:28:36.620452",
     "status": "completed"
    },
    "tags": []
   },
   "source": [
    "##### Copyright 2024 Google LLC."
   ]
  },
  {
   "cell_type": "code",
   "execution_count": 1,
   "id": "e348232e",
   "metadata": {
    "cellView": "form",
    "execution": {
     "iopub.execute_input": "2024-11-14T06:28:36.649471Z",
     "iopub.status.busy": "2024-11-14T06:28:36.648954Z",
     "iopub.status.idle": "2024-11-14T06:28:36.655031Z",
     "shell.execute_reply": "2024-11-14T06:28:36.654029Z"
    },
    "id": "d6597b11df14",
    "jupyter": {
     "source_hidden": true
    },
    "papermill": {
     "duration": 0.018647,
     "end_time": "2024-11-14T06:28:36.657364",
     "exception": false,
     "start_time": "2024-11-14T06:28:36.638717",
     "status": "completed"
    },
    "tags": []
   },
   "outputs": [],
   "source": [
    "# @title Licensed under the Apache License, Version 2.0 (the \"License\");\n",
    "# you may not use this file except in compliance with the License.\n",
    "# You may obtain a copy of the License at\n",
    "#\n",
    "# https://www.apache.org/licenses/LICENSE-2.0\n",
    "#\n",
    "# Unless required by applicable law or agreed to in writing, software\n",
    "# distributed under the License is distributed on an \"AS IS\" BASIS,\n",
    "# WITHOUT WARRANTIES OR CONDITIONS OF ANY KIND, either express or implied.\n",
    "# See the License for the specific language governing permissions and\n",
    "# limitations under the License."
   ]
  },
  {
   "cell_type": "markdown",
   "id": "9e2fb9f1",
   "metadata": {
    "id": "4KDIFPAL2EnL",
    "papermill": {
     "duration": 0.008283,
     "end_time": "2024-11-14T06:28:36.675298",
     "exception": false,
     "start_time": "2024-11-14T06:28:36.667015",
     "status": "completed"
    },
    "tags": []
   },
   "source": [
    "# Day 4 - Fine tuning a custom model\n",
    "\n",
    "Welcome back to the Kaggle 5-day Generative AI course!\n",
    "\n",
    "In this notebook you will use the Gemini API to fine-tune a custom, task-specific model. Fine-tuning can be used for a variety of tasks from classic NLP problems like entity extraction or summarisation, to creative tasks like stylised generation. You will fine-tune a model to classify the category a piece of text (a newsgroup post) into the category it belongs to (the newsgroup name).\n",
    "\n",
    "This codelab walks you tuning a model with the API. [AI Studio](https://aistudio.google.com/app/tune) also supports creating new tuned models directly in the web UI, allowing you to quickly create and monitor models using data from Google Sheets, Drive or your own files."
   ]
  },
  {
   "cell_type": "code",
   "execution_count": 2,
   "id": "377403ca",
   "metadata": {
    "execution": {
     "iopub.execute_input": "2024-11-14T06:28:36.694969Z",
     "iopub.status.busy": "2024-11-14T06:28:36.694560Z",
     "iopub.status.idle": "2024-11-14T06:29:02.954138Z",
     "shell.execute_reply": "2024-11-14T06:29:02.952766Z"
    },
    "id": "9wafTyEH1_xF",
    "papermill": {
     "duration": 26.272704,
     "end_time": "2024-11-14T06:29:02.956594",
     "exception": false,
     "start_time": "2024-11-14T06:28:36.683890",
     "status": "completed"
    },
    "tags": []
   },
   "outputs": [
    {
     "name": "stdout",
     "output_type": "stream",
     "text": [
      "Note: you may need to restart the kernel to use updated packages.\n"
     ]
    }
   ],
   "source": [
    "%pip install -U -q 'google-generativeai>=0.8.3'"
   ]
  },
  {
   "cell_type": "markdown",
   "id": "0e2ac886",
   "metadata": {
    "papermill": {
     "duration": 0.008559,
     "end_time": "2024-11-14T06:29:02.973942",
     "exception": false,
     "start_time": "2024-11-14T06:29:02.965383",
     "status": "completed"
    },
    "tags": []
   },
   "source": [
    "Note that you do not have to restart the kernel."
   ]
  },
  {
   "cell_type": "code",
   "execution_count": 3,
   "id": "79768c92",
   "metadata": {
    "execution": {
     "iopub.execute_input": "2024-11-14T06:29:02.993223Z",
     "iopub.status.busy": "2024-11-14T06:29:02.992831Z",
     "iopub.status.idle": "2024-11-14T06:29:04.049068Z",
     "shell.execute_reply": "2024-11-14T06:29:04.047982Z"
    },
    "id": "T0CBG9xL2PvT",
    "papermill": {
     "duration": 1.068972,
     "end_time": "2024-11-14T06:29:04.051561",
     "exception": false,
     "start_time": "2024-11-14T06:29:02.982589",
     "status": "completed"
    },
    "tags": []
   },
   "outputs": [],
   "source": [
    "import google.generativeai as genai"
   ]
  },
  {
   "cell_type": "markdown",
   "id": "cc71dc16",
   "metadata": {
    "id": "P4bYX2T72ScK",
    "papermill": {
     "duration": 0.008302,
     "end_time": "2024-11-14T06:29:04.068469",
     "exception": false,
     "start_time": "2024-11-14T06:29:04.060167",
     "status": "completed"
    },
    "tags": []
   },
   "source": [
    "### Set up your API key\n",
    "\n",
    "To run the following cell, your API key must be stored it in a [Kaggle secret](https://www.kaggle.com/discussions/product-feedback/114053) named `GOOGLE_API_KEY`.\n",
    "\n",
    "If you don't already have an API key, you can grab one from [AI Studio](https://aistudio.google.com/app/apikey). You can find [detailed instructions in the docs](https://ai.google.dev/gemini-api/docs/api-key).\n",
    "\n",
    "To make the key available through Kaggle secrets, choose `Secrets` from the `Add-ons` menu and follow the instructions to add your key or enable it for this notebook."
   ]
  },
  {
   "cell_type": "code",
   "execution_count": 4,
   "id": "52cab4f4",
   "metadata": {
    "execution": {
     "iopub.execute_input": "2024-11-14T06:29:04.087490Z",
     "iopub.status.busy": "2024-11-14T06:29:04.086699Z",
     "iopub.status.idle": "2024-11-14T06:29:04.350680Z",
     "shell.execute_reply": "2024-11-14T06:29:04.349682Z"
    },
    "id": "VuJPY3GK2SLZ",
    "papermill": {
     "duration": 0.276121,
     "end_time": "2024-11-14T06:29:04.352993",
     "exception": false,
     "start_time": "2024-11-14T06:29:04.076872",
     "status": "completed"
    },
    "tags": []
   },
   "outputs": [],
   "source": [
    "from kaggle_secrets import UserSecretsClient\n",
    "\n",
    "GOOGLE_API_KEY = UserSecretsClient().get_secret(\"GOOGLE_API_KEY\")\n",
    "genai.configure(api_key=GOOGLE_API_KEY)"
   ]
  },
  {
   "cell_type": "markdown",
   "id": "3a18fe0e",
   "metadata": {
    "id": "25b2127c2052",
    "papermill": {
     "duration": 0.008328,
     "end_time": "2024-11-14T06:29:04.370060",
     "exception": false,
     "start_time": "2024-11-14T06:29:04.361732",
     "status": "completed"
    },
    "tags": []
   },
   "source": [
    "If you received an error response along the lines of `No user secrets exist for kernel id ...`, then you need to add your API key via `Add-ons`, `Secrets` **and** enable it.\n",
    "\n",
    "![Screenshot of the checkbox to enable GOOGLE_API_KEY secret](https://storage.googleapis.com/kaggle-media/Images/5gdai_sc_3.png)"
   ]
  },
  {
   "cell_type": "markdown",
   "id": "e2b54970",
   "metadata": {
    "id": "CqVA5QFO6n4z",
    "papermill": {
     "duration": 0.00842,
     "end_time": "2024-11-14T06:29:04.387073",
     "exception": false,
     "start_time": "2024-11-14T06:29:04.378653",
     "status": "completed"
    },
    "tags": []
   },
   "source": [
    "### Explore available models\n",
    "\n",
    "You will be using the [`TunedModel.create`](https://ai.google.dev/api/tuning#method:-tunedmodels.create) API method to start the fine-tuning job and create your custom model. Find a model that supports it through the [`models.list`](https://ai.google.dev/api/models#method:-models.list) endpoint. You can also find more information about tuning models in [the model tuning docs](https://ai.google.dev/gemini-api/docs/model-tuning/tutorial?lang=python)."
   ]
  },
  {
   "cell_type": "code",
   "execution_count": 5,
   "id": "9a12840d",
   "metadata": {
    "execution": {
     "iopub.execute_input": "2024-11-14T06:29:04.406447Z",
     "iopub.status.busy": "2024-11-14T06:29:04.405506Z",
     "iopub.status.idle": "2024-11-14T06:29:05.296574Z",
     "shell.execute_reply": "2024-11-14T06:29:05.295412Z"
    },
    "id": "coEacWAB6o0G",
    "papermill": {
     "duration": 0.903225,
     "end_time": "2024-11-14T06:29:05.298823",
     "exception": false,
     "start_time": "2024-11-14T06:29:04.395598",
     "status": "completed"
    },
    "tags": []
   },
   "outputs": [
    {
     "name": "stdout",
     "output_type": "stream",
     "text": [
      "models/gemini-1.0-pro-001\n",
      "models/gemini-1.5-flash-001-tuning\n"
     ]
    }
   ],
   "source": [
    "for model in genai.list_models():\n",
    "    if \"createTunedModel\" in model.supported_generation_methods:\n",
    "        print(model.name)"
   ]
  },
  {
   "cell_type": "markdown",
   "id": "f813b08c",
   "metadata": {
    "id": "peFm0w_0c1CO",
    "papermill": {
     "duration": 0.008698,
     "end_time": "2024-11-14T06:29:05.316147",
     "exception": false,
     "start_time": "2024-11-14T06:29:05.307449",
     "status": "completed"
    },
    "tags": []
   },
   "source": [
    "## Download the dataset\n",
    "\n",
    "In this activity, you will use the same newsgroups dataset that you used to train a classifier in Keras. In this example you will use a fine-tuned Gemini model to achieve the same goal.\n",
    "\n",
    "The [20 Newsgroups Text Dataset](https://scikit-learn.org/0.19/datasets/twenty_newsgroups.html) contains 18,000 newsgroups posts on 20 topics divided into training and test sets."
   ]
  },
  {
   "cell_type": "code",
   "execution_count": 6,
   "id": "5c20e498",
   "metadata": {
    "execution": {
     "iopub.execute_input": "2024-11-14T06:29:05.335087Z",
     "iopub.status.busy": "2024-11-14T06:29:05.334689Z",
     "iopub.status.idle": "2024-11-14T06:29:29.415993Z",
     "shell.execute_reply": "2024-11-14T06:29:29.414964Z"
    },
    "id": "bX_kpgnQ9b-Z",
    "papermill": {
     "duration": 24.093447,
     "end_time": "2024-11-14T06:29:29.418192",
     "exception": false,
     "start_time": "2024-11-14T06:29:05.324745",
     "status": "completed"
    },
    "tags": []
   },
   "outputs": [
    {
     "data": {
      "text/plain": [
       "['alt.atheism',\n",
       " 'comp.graphics',\n",
       " 'comp.os.ms-windows.misc',\n",
       " 'comp.sys.ibm.pc.hardware',\n",
       " 'comp.sys.mac.hardware',\n",
       " 'comp.windows.x',\n",
       " 'misc.forsale',\n",
       " 'rec.autos',\n",
       " 'rec.motorcycles',\n",
       " 'rec.sport.baseball',\n",
       " 'rec.sport.hockey',\n",
       " 'sci.crypt',\n",
       " 'sci.electronics',\n",
       " 'sci.med',\n",
       " 'sci.space',\n",
       " 'soc.religion.christian',\n",
       " 'talk.politics.guns',\n",
       " 'talk.politics.mideast',\n",
       " 'talk.politics.misc',\n",
       " 'talk.religion.misc']"
      ]
     },
     "execution_count": 6,
     "metadata": {},
     "output_type": "execute_result"
    }
   ],
   "source": [
    "from sklearn.datasets import fetch_20newsgroups\n",
    "\n",
    "newsgroups_train = fetch_20newsgroups(subset=\"train\")\n",
    "newsgroups_test = fetch_20newsgroups(subset=\"test\")\n",
    "\n",
    "# View list of class names for dataset\n",
    "newsgroups_train.target_names"
   ]
  },
  {
   "cell_type": "markdown",
   "id": "07f2474d",
   "metadata": {
    "id": "ipafe6ptZFjt",
    "papermill": {
     "duration": 0.00859,
     "end_time": "2024-11-14T06:29:29.436130",
     "exception": false,
     "start_time": "2024-11-14T06:29:29.427540",
     "status": "completed"
    },
    "tags": []
   },
   "source": [
    "Here's what a single row looks like."
   ]
  },
  {
   "cell_type": "code",
   "execution_count": 7,
   "id": "08361a25",
   "metadata": {
    "execution": {
     "iopub.execute_input": "2024-11-14T06:29:29.455556Z",
     "iopub.status.busy": "2024-11-14T06:29:29.455088Z",
     "iopub.status.idle": "2024-11-14T06:29:29.460821Z",
     "shell.execute_reply": "2024-11-14T06:29:29.459803Z"
    },
    "id": "EtEXcdT39hCB",
    "papermill": {
     "duration": 0.018176,
     "end_time": "2024-11-14T06:29:29.463040",
     "exception": false,
     "start_time": "2024-11-14T06:29:29.444864",
     "status": "completed"
    },
    "tags": []
   },
   "outputs": [
    {
     "name": "stdout",
     "output_type": "stream",
     "text": [
      "From: lerxst@wam.umd.edu (where's my thing)\n",
      "Subject: WHAT car is this!?\n",
      "Nntp-Posting-Host: rac3.wam.umd.edu\n",
      "Organization: University of Maryland, College Park\n",
      "Lines: 15\n",
      "\n",
      " I was wondering if anyone out there could enlighten me on this car I saw\n",
      "the other day. It was a 2-door sports car, looked to be from the late 60s/\n",
      "early 70s. It was called a Bricklin. The doors were really small. In addition,\n",
      "the front bumper was separate from the rest of the body. This is \n",
      "all I know. If anyone can tellme a model name, engine specs, years\n",
      "of production, where this car is made, history, or whatever info you\n",
      "have on this funky looking car, please e-mail.\n",
      "\n",
      "Thanks,\n",
      "- IL\n",
      "   ---- brought to you by your neighborhood Lerxst ----\n",
      "\n",
      "\n",
      "\n",
      "\n",
      "\n"
     ]
    }
   ],
   "source": [
    "print(newsgroups_train.data[0])"
   ]
  },
  {
   "cell_type": "markdown",
   "id": "fe17efc5",
   "metadata": {
    "id": "03lDs1O4ZQ0-",
    "papermill": {
     "duration": 0.008651,
     "end_time": "2024-11-14T06:29:29.480533",
     "exception": false,
     "start_time": "2024-11-14T06:29:29.471882",
     "status": "completed"
    },
    "tags": []
   },
   "source": [
    "## Prepare the dataset\n",
    "\n",
    "You'll use the same pre-processing code you used for the custom model on day 2. This pre-processing removes personal information, which can be used to \"shortcut\" to known users of a forum, and formats the text to appear a bit more like regular text and less like a newsgroup post (e.g. by removing the mail headers). This normalisation allows the model to generalise to regular text and not over-depend on specific fields. If your input data is always going to be newsgroup posts, it may be helpful to leave this structure in place if they provide genuine signals."
   ]
  },
  {
   "cell_type": "code",
   "execution_count": 8,
   "id": "7cba135c",
   "metadata": {
    "execution": {
     "iopub.execute_input": "2024-11-14T06:29:29.500102Z",
     "iopub.status.busy": "2024-11-14T06:29:29.499635Z",
     "iopub.status.idle": "2024-11-14T06:29:30.289487Z",
     "shell.execute_reply": "2024-11-14T06:29:30.288424Z"
    },
    "id": "IoNYTxpoZgB0",
    "papermill": {
     "duration": 0.802813,
     "end_time": "2024-11-14T06:29:30.292129",
     "exception": false,
     "start_time": "2024-11-14T06:29:29.489316",
     "status": "completed"
    },
    "tags": []
   },
   "outputs": [],
   "source": [
    "import email\n",
    "import re\n",
    "\n",
    "import pandas as pd\n",
    "\n",
    "\n",
    "def preprocess_newsgroup_row(data):\n",
    "    # Extract only the subject and body\n",
    "    msg = email.message_from_string(data)\n",
    "    text = f\"{msg['Subject']}\\n\\n{msg.get_payload()}\"\n",
    "    # Strip any remaining email addresses\n",
    "    text = re.sub(r\"[\\w\\.-]+@[\\w\\.-]+\", \"\", text)\n",
    "    # Truncate the text to fit within the input limits\n",
    "    text = text[:40000]\n",
    "\n",
    "    return text\n",
    "\n",
    "\n",
    "def preprocess_newsgroup_data(newsgroup_dataset):\n",
    "    # Put data points into dataframe\n",
    "    df = pd.DataFrame(\n",
    "        {\"Text\": newsgroup_dataset.data, \"Label\": newsgroup_dataset.target}\n",
    "    )\n",
    "    # Clean up the text\n",
    "    df[\"Text\"] = df[\"Text\"].apply(preprocess_newsgroup_row)\n",
    "    # Match label to target name index\n",
    "    df[\"Class Name\"] = df[\"Label\"].map(lambda l: newsgroup_dataset.target_names[l])\n",
    "\n",
    "    return df"
   ]
  },
  {
   "cell_type": "code",
   "execution_count": 9,
   "id": "ac5cd6a2",
   "metadata": {
    "execution": {
     "iopub.execute_input": "2024-11-14T06:29:30.312076Z",
     "iopub.status.busy": "2024-11-14T06:29:30.311503Z",
     "iopub.status.idle": "2024-11-14T06:29:34.212800Z",
     "shell.execute_reply": "2024-11-14T06:29:34.210741Z"
    },
    "id": "kvOsUSRWaW4g",
    "papermill": {
     "duration": 3.914629,
     "end_time": "2024-11-14T06:29:34.215827",
     "exception": false,
     "start_time": "2024-11-14T06:29:30.301198",
     "status": "completed"
    },
    "tags": []
   },
   "outputs": [
    {
     "data": {
      "text/html": [
       "<div>\n",
       "<style scoped>\n",
       "    .dataframe tbody tr th:only-of-type {\n",
       "        vertical-align: middle;\n",
       "    }\n",
       "\n",
       "    .dataframe tbody tr th {\n",
       "        vertical-align: top;\n",
       "    }\n",
       "\n",
       "    .dataframe thead th {\n",
       "        text-align: right;\n",
       "    }\n",
       "</style>\n",
       "<table border=\"1\" class=\"dataframe\">\n",
       "  <thead>\n",
       "    <tr style=\"text-align: right;\">\n",
       "      <th></th>\n",
       "      <th>Text</th>\n",
       "      <th>Label</th>\n",
       "      <th>Class Name</th>\n",
       "    </tr>\n",
       "  </thead>\n",
       "  <tbody>\n",
       "    <tr>\n",
       "      <th>0</th>\n",
       "      <td>WHAT car is this!?\\n\\n I was wondering if anyo...</td>\n",
       "      <td>7</td>\n",
       "      <td>rec.autos</td>\n",
       "    </tr>\n",
       "    <tr>\n",
       "      <th>1</th>\n",
       "      <td>SI Clock Poll - Final Call\\n\\nA fair number of...</td>\n",
       "      <td>4</td>\n",
       "      <td>comp.sys.mac.hardware</td>\n",
       "    </tr>\n",
       "    <tr>\n",
       "      <th>2</th>\n",
       "      <td>PB questions...\\n\\nwell folks, my mac plus fin...</td>\n",
       "      <td>4</td>\n",
       "      <td>comp.sys.mac.hardware</td>\n",
       "    </tr>\n",
       "    <tr>\n",
       "      <th>3</th>\n",
       "      <td>Re: Weitek P9000 ?\\n\\nRobert J.C. Kyanko () wr...</td>\n",
       "      <td>1</td>\n",
       "      <td>comp.graphics</td>\n",
       "    </tr>\n",
       "    <tr>\n",
       "      <th>4</th>\n",
       "      <td>Re: Shuttle Launch Question\\n\\nFrom article &lt;&gt;...</td>\n",
       "      <td>14</td>\n",
       "      <td>sci.space</td>\n",
       "    </tr>\n",
       "  </tbody>\n",
       "</table>\n",
       "</div>"
      ],
      "text/plain": [
       "                                                Text  Label  \\\n",
       "0  WHAT car is this!?\\n\\n I was wondering if anyo...      7   \n",
       "1  SI Clock Poll - Final Call\\n\\nA fair number of...      4   \n",
       "2  PB questions...\\n\\nwell folks, my mac plus fin...      4   \n",
       "3  Re: Weitek P9000 ?\\n\\nRobert J.C. Kyanko () wr...      1   \n",
       "4  Re: Shuttle Launch Question\\n\\nFrom article <>...     14   \n",
       "\n",
       "              Class Name  \n",
       "0              rec.autos  \n",
       "1  comp.sys.mac.hardware  \n",
       "2  comp.sys.mac.hardware  \n",
       "3          comp.graphics  \n",
       "4              sci.space  "
      ]
     },
     "execution_count": 9,
     "metadata": {},
     "output_type": "execute_result"
    }
   ],
   "source": [
    "# Apply preprocessing to training and test datasets\n",
    "df_train = preprocess_newsgroup_data(newsgroups_train)\n",
    "df_test = preprocess_newsgroup_data(newsgroups_test)\n",
    "\n",
    "df_train.head()"
   ]
  },
  {
   "cell_type": "markdown",
   "id": "856d1ccb",
   "metadata": {
    "id": "XSKcj5WtadaR",
    "papermill": {
     "duration": 0.009243,
     "end_time": "2024-11-14T06:29:34.243696",
     "exception": false,
     "start_time": "2024-11-14T06:29:34.234453",
     "status": "completed"
    },
    "tags": []
   },
   "source": [
    "Now sample the data. You will keep 50 rows for each category for training. Note that this is even fewer than the Keras example, as this technique (parameter-efficient fine-tuning, or PEFT) updates a relatively small number of parameters and does not require training a new model or updating the large model."
   ]
  },
  {
   "cell_type": "code",
   "execution_count": 10,
   "id": "392252fa",
   "metadata": {
    "execution": {
     "iopub.execute_input": "2024-11-14T06:29:34.263813Z",
     "iopub.status.busy": "2024-11-14T06:29:34.263406Z",
     "iopub.status.idle": "2024-11-14T06:29:34.306634Z",
     "shell.execute_reply": "2024-11-14T06:29:34.305718Z"
    },
    "id": "0t9Xu6X5akkt",
    "papermill": {
     "duration": 0.056101,
     "end_time": "2024-11-14T06:29:34.309003",
     "exception": false,
     "start_time": "2024-11-14T06:29:34.252902",
     "status": "completed"
    },
    "tags": []
   },
   "outputs": [],
   "source": [
    "def sample_data(df, num_samples, classes_to_keep):\n",
    "    # Sample rows, selecting num_samples of each Label.\n",
    "    df = (\n",
    "        df.groupby(\"Label\")[df.columns]\n",
    "        .apply(lambda x: x.sample(num_samples))\n",
    "        .reset_index(drop=True)\n",
    "    )\n",
    "\n",
    "    df = df[df[\"Class Name\"].str.contains(classes_to_keep)]\n",
    "    df[\"Class Name\"] = df[\"Class Name\"].astype(\"category\")\n",
    "\n",
    "    return df\n",
    "\n",
    "\n",
    "TRAIN_NUM_SAMPLES = 50\n",
    "TEST_NUM_SAMPLES = 10\n",
    "# Keep rec.* and sci.*\n",
    "CLASSES_TO_KEEP = \"^rec|^sci\"\n",
    "\n",
    "df_train = sample_data(df_train, TRAIN_NUM_SAMPLES, CLASSES_TO_KEEP)\n",
    "df_test = sample_data(df_test, TEST_NUM_SAMPLES, CLASSES_TO_KEEP)"
   ]
  },
  {
   "cell_type": "markdown",
   "id": "58012d3a",
   "metadata": {
    "papermill": {
     "duration": 0.00888,
     "end_time": "2024-11-14T06:29:34.327230",
     "exception": false,
     "start_time": "2024-11-14T06:29:34.318350",
     "status": "completed"
    },
    "tags": []
   },
   "source": [
    "## Evaluate baseline performance\n",
    "\n",
    "Before you start tuning a model, it's good practice to perform an evaluation on the available models to ensure you can measure how much the tuning helps.\n",
    "\n",
    "First identify a single sample row to use for visual inspection."
   ]
  },
  {
   "cell_type": "code",
   "execution_count": 11,
   "id": "9ffa9ede",
   "metadata": {
    "execution": {
     "iopub.execute_input": "2024-11-14T06:29:34.347775Z",
     "iopub.status.busy": "2024-11-14T06:29:34.346811Z",
     "iopub.status.idle": "2024-11-14T06:29:34.353306Z",
     "shell.execute_reply": "2024-11-14T06:29:34.352335Z"
    },
    "papermill": {
     "duration": 0.019147,
     "end_time": "2024-11-14T06:29:34.355649",
     "exception": false,
     "start_time": "2024-11-14T06:29:34.336502",
     "status": "completed"
    },
    "tags": []
   },
   "outputs": [
    {
     "name": "stdout",
     "output_type": "stream",
     "text": [
      "Need info on 88-89 Bonneville\n",
      "\n",
      "\n",
      " I am a little confused on all of the models of the 88-89 bonnevilles.\n",
      "I have heard of the LE SE LSE SSE SSEI. Could someone tell me the\n",
      "differences are far as features or performance. I am also curious to\n",
      "know what the book value is for prefereably the 89 model. And how much\n",
      "less than book value can you usually get them for. In other words how\n",
      "much are they in demand this time of year. I have heard that the mid-spring\n",
      "early summer is the best time to buy.\n",
      "\n",
      "\t\t\tNeil Gandler\n",
      "\n",
      "---\n",
      "Label: rec.autos\n"
     ]
    }
   ],
   "source": [
    "sample_idx = 0\n",
    "sample_row = preprocess_newsgroup_row(newsgroups_test.data[sample_idx])\n",
    "sample_label = newsgroups_test.target_names[newsgroups_test.target[sample_idx]]\n",
    "\n",
    "print(sample_row)\n",
    "print('---')\n",
    "print('Label:', sample_label)"
   ]
  },
  {
   "cell_type": "markdown",
   "id": "53600dc0",
   "metadata": {
    "papermill": {
     "duration": 0.009036,
     "end_time": "2024-11-14T06:29:34.374490",
     "exception": false,
     "start_time": "2024-11-14T06:29:34.365454",
     "status": "completed"
    },
    "tags": []
   },
   "source": [
    "Passing the text directly in as a prompt does not yield the desired results. The model will attempt to respond to the message."
   ]
  },
  {
   "cell_type": "code",
   "execution_count": 12,
   "id": "0071ac9a",
   "metadata": {
    "execution": {
     "iopub.execute_input": "2024-11-14T06:29:34.394570Z",
     "iopub.status.busy": "2024-11-14T06:29:34.394164Z",
     "iopub.status.idle": "2024-11-14T06:29:38.352192Z",
     "shell.execute_reply": "2024-11-14T06:29:38.351206Z"
    },
    "papermill": {
     "duration": 3.970775,
     "end_time": "2024-11-14T06:29:38.354474",
     "exception": false,
     "start_time": "2024-11-14T06:29:34.383699",
     "status": "completed"
    },
    "tags": []
   },
   "outputs": [
    {
     "name": "stdout",
     "output_type": "stream",
     "text": [
      "You're right, the 1988-89 Bonneville lineup was a bit confusing! Here's a breakdown of the different models and their features:\n",
      "\n",
      "**1988-1989 Bonneville Trim Levels:**\n",
      "\n",
      "* **LE (Luxury Edition):** The base model.  Featured cloth upholstery, basic power accessories, and a 3.8L V6 engine.\n",
      "* **SE (Special Edition):** Added some luxury features over the LE, including velour upholstery, upgraded sound system, and possibly some exterior chrome trim. Still used the 3.8L V6.\n",
      "* **LSE (Luxury Special Edition):**  A step up from the SE, usually with leather upholstery, more power options, and a 5.0L V8 engine. \n",
      "* **SSE (Sport Sedan Edition):**  Focused on sporty handling and performance. Featured a 5.0L V8 engine, sport suspension, and a more aggressive appearance (like a spoiler). \n",
      "* **SSEi (Sport Sedan Edition, Injected):** The top-of-the-line model.  Featured the same 5.0L V8 engine as the SSE, but with fuel injection for improved performance and fuel economy.  Also had a sportier interior and exterior trim.\n",
      "\n",
      "**Book Values and Pricing:**\n",
      "\n",
      "Unfortunately, it's difficult to provide a definitive book value for a specific Bonneville without more information.  Factors like mileage, condition, and location all affect the price.  \n",
      "\n",
      "* **Resources:**  To find out an approximate book value, you can use online resources like Kelley Blue Book (KBB) or Edmunds.  \n",
      "* **Market Demand:**  The demand for these Bonnevilles can vary, but generally, they're not as high as for other classic cars. This means you may be able to get a better deal than book value.\n",
      "* **Spring/Summer:**  You're right, spring and early summer are generally considered good times to buy used cars as people are looking to sell their vehicles before the summer driving season begins.\n",
      "\n",
      "**Additional Considerations:**\n",
      "\n",
      "* **Condition:**  A well-maintained Bonneville in excellent condition will naturally command a higher price.\n",
      "* **Rarity:**  Certain models, like the SSEi, are less common than others, which could influence their value.\n",
      "* **Local Market:** Prices will also vary depending on your location and local demand.\n",
      "\n",
      "**Tips for Finding a Good Deal:**\n",
      "\n",
      "* **Do Your Research:**  Before you start looking, use the resources mentioned above to get an idea of what to expect price-wise.\n",
      "* **Be Patient:** Don't rush into buying the first Bonneville you see. Take your time to find a car that meets your needs and fits your budget.\n",
      "* **Negotiate:** Be prepared to negotiate the price with the seller, especially if you're buying privately.\n",
      "\n",
      "**Enjoy the Search!**\n",
      "\n",
      "Finding a classic Bonneville can be a fun experience.  Remember, the key is to find a car that you love and that meets your requirements.  Happy hunting! \n",
      "\n"
     ]
    }
   ],
   "source": [
    "baseline_model = genai.GenerativeModel(\"gemini-1.5-flash-001\")\n",
    "response = baseline_model.generate_content(sample_row)\n",
    "print(response.text)"
   ]
  },
  {
   "cell_type": "markdown",
   "id": "e57b63ee",
   "metadata": {
    "papermill": {
     "duration": 0.009045,
     "end_time": "2024-11-14T06:29:38.372973",
     "exception": false,
     "start_time": "2024-11-14T06:29:38.363928",
     "status": "completed"
    },
    "tags": []
   },
   "source": [
    "You can use the prompt engineering techniques you have learned this week to induce the model to perform the desired task. Try some of your own ideas and see what is effective, or check out the following cells for different approaches. Note that they have different levels of effectiveness!"
   ]
  },
  {
   "cell_type": "code",
   "execution_count": 13,
   "id": "9f80da3e",
   "metadata": {
    "execution": {
     "iopub.execute_input": "2024-11-14T06:29:38.393101Z",
     "iopub.status.busy": "2024-11-14T06:29:38.392696Z",
     "iopub.status.idle": "2024-11-14T06:29:40.569796Z",
     "shell.execute_reply": "2024-11-14T06:29:40.568399Z"
    },
    "papermill": {
     "duration": 2.190086,
     "end_time": "2024-11-14T06:29:40.572337",
     "exception": false,
     "start_time": "2024-11-14T06:29:38.382251",
     "status": "completed"
    },
    "tags": []
   },
   "outputs": [
    {
     "name": "stdout",
     "output_type": "stream",
     "text": [
      "It's highly likely this message originated from a newsgroup related to **Buick automobiles**.  Here's why:\n",
      "\n",
      "* **Subject:** The message specifically asks about Buick Bonnevilles, a car model produced by Buick. \n",
      "* **Content:** The questions revolve around model variations (LE, SE, LSE, SSE, SSEI), book value, and seasonal pricing. This indicates an audience interested in buying and selling Buicks.\n",
      "\n",
      "**Possible newsgroups:**\n",
      "\n",
      "* **alt.autos.buick:** A dedicated newsgroup for discussions about Buick vehicles.\n",
      "* **rec.autos.cars:** A more general car enthusiast newsgroup, but likely to have threads on Buick topics.\n",
      "* **misc.forsale:** This is where people advertise cars for sale, and you might find discussions about Bonnevilles' pricing and demand. \n",
      "\n",
      "Without the exact newsgroup name in the message header, it's impossible to be 100% certain. However, based on the content, these are the most likely candidates. \n",
      "\n"
     ]
    }
   ],
   "source": [
    "# Ask the model directly in a zero-shot prompt.\n",
    "\n",
    "prompt = \"From what newsgroup does the following message originate?\"\n",
    "baseline_response = baseline_model.generate_content([prompt, sample_row])\n",
    "print(baseline_response.text)"
   ]
  },
  {
   "cell_type": "markdown",
   "id": "24aa2007",
   "metadata": {
    "papermill": {
     "duration": 0.009346,
     "end_time": "2024-11-14T06:29:40.591290",
     "exception": false,
     "start_time": "2024-11-14T06:29:40.581944",
     "status": "completed"
    },
    "tags": []
   },
   "source": [
    "That technique produces quite a verbose response. You could try and pick out the relevant text, or refine the prompt even further."
   ]
  },
  {
   "cell_type": "code",
   "execution_count": 14,
   "id": "9554d775",
   "metadata": {
    "execution": {
     "iopub.execute_input": "2024-11-14T06:29:40.612454Z",
     "iopub.status.busy": "2024-11-14T06:29:40.611538Z",
     "iopub.status.idle": "2024-11-14T06:29:41.113742Z",
     "shell.execute_reply": "2024-11-14T06:29:41.112633Z"
    },
    "papermill": {
     "duration": 0.51528,
     "end_time": "2024-11-14T06:29:41.116187",
     "exception": false,
     "start_time": "2024-11-14T06:29:40.600907",
     "status": "completed"
    },
    "tags": []
   },
   "outputs": [
    {
     "name": "stdout",
     "output_type": "stream",
     "text": [
      "rec.autos.misc\n",
      "\n",
      "Incorrect.\n"
     ]
    }
   ],
   "source": [
    "from google.api_core import retry\n",
    "\n",
    "# You can use a system instruction to do more direct prompting, and get a\n",
    "# more succinct answer.\n",
    "\n",
    "system_instruct = \"\"\"\n",
    "You are a classification service. You will be passed input that represents\n",
    "a newsgroup post and you must respond with the newsgroup from which the post\n",
    "originates.\n",
    "\"\"\"\n",
    "\n",
    "instructed_model = genai.GenerativeModel(\"gemini-1.5-flash-001\",\n",
    "                                         system_instruction=system_instruct)\n",
    "\n",
    "retry_policy = {\"retry\": retry.Retry(predicate=retry.if_transient_error)}\n",
    "\n",
    "# If you want to evaluate your own technique, replace this function with your\n",
    "# model, prompt and other code and return the predicted answer.\n",
    "def predict_label(post: str) -> str:\n",
    "    response = instructed_model.generate_content(post, request_options=retry_policy)\n",
    "    rc = response.candidates[0]\n",
    "\n",
    "    # Any errors, filters, recitation, etc we can mark as a general error\n",
    "    if rc.finish_reason.name != \"STOP\":\n",
    "        return \"(error)\"\n",
    "    else:\n",
    "        # Clean up the response.\n",
    "        return response.text.strip()\n",
    "\n",
    "\n",
    "prediction = predict_label(sample_row)\n",
    "\n",
    "print(prediction)\n",
    "print()\n",
    "print(\"Correct!\" if prediction == sample_label else \"Incorrect.\")"
   ]
  },
  {
   "cell_type": "markdown",
   "id": "0bfc90f2",
   "metadata": {
    "papermill": {
     "duration": 0.009558,
     "end_time": "2024-11-14T06:29:41.135171",
     "exception": false,
     "start_time": "2024-11-14T06:29:41.125613",
     "status": "completed"
    },
    "tags": []
   },
   "source": [
    "Now run a short evaluation using the function defined above. The test set is further sampled to ensure the experiment runs smoothly on the API's free tier. In practice you would evaluate over the whole set."
   ]
  },
  {
   "cell_type": "code",
   "execution_count": 15,
   "id": "18fa1e32",
   "metadata": {
    "execution": {
     "iopub.execute_input": "2024-11-14T06:29:41.156002Z",
     "iopub.status.busy": "2024-11-14T06:29:41.155285Z",
     "iopub.status.idle": "2024-11-14T06:31:09.548106Z",
     "shell.execute_reply": "2024-11-14T06:31:09.546996Z"
    },
    "papermill": {
     "duration": 88.405905,
     "end_time": "2024-11-14T06:31:09.550453",
     "exception": false,
     "start_time": "2024-11-14T06:29:41.144548",
     "status": "completed"
    },
    "tags": []
   },
   "outputs": [
    {
     "data": {
      "application/vnd.jupyter.widget-view+json": {
       "model_id": "909aa1fc654246c7bffc2ca63a55db86",
       "version_major": 2,
       "version_minor": 0
      },
      "text/plain": [
       "Output()"
      ]
     },
     "metadata": {},
     "output_type": "display_data"
    },
    {
     "name": "stderr",
     "output_type": "stream",
     "text": [
      "/opt/conda/lib/python3.10/site-packages/tqdm/std.py:885: TqdmExperimentalWarning: rich is experimental/alpha\n",
      "  t = cls(total=total, **tqdm_kwargs)\n"
     ]
    },
    {
     "data": {
      "text/html": [
       "<pre style=\"white-space:pre;overflow-x:auto;line-height:normal;font-family:Menlo,'DejaVu Sans Mono',consolas,'Courier New',monospace\"></pre>\n"
      ],
      "text/plain": []
     },
     "metadata": {},
     "output_type": "display_data"
    },
    {
     "data": {
      "text/html": [
       "<pre style=\"white-space:pre;overflow-x:auto;line-height:normal;font-family:Menlo,'DejaVu Sans Mono',consolas,'Courier New',monospace\">\n",
       "</pre>\n"
      ],
      "text/plain": [
       "\n"
      ]
     },
     "metadata": {},
     "output_type": "display_data"
    },
    {
     "name": "stdout",
     "output_type": "stream",
     "text": [
      "Accuracy: 18.75%\n"
     ]
    }
   ],
   "source": [
    "from tqdm.rich import tqdm\n",
    "\n",
    "tqdm.pandas()\n",
    "\n",
    "\n",
    "# Further sample the test data to be mindful of the free-tier quota.\n",
    "df_baseline_eval = sample_data(df_test, 2, '.*')\n",
    "\n",
    "# Make predictions using the sampled data.\n",
    "df_baseline_eval['Prediction'] = df_baseline_eval['Text'].progress_apply(predict_label)\n",
    "\n",
    "# And calculate the accuracy.\n",
    "accuracy = (df_baseline_eval[\"Class Name\"] == df_baseline_eval[\"Prediction\"]).sum() / len(df_baseline_eval)\n",
    "print(f\"Accuracy: {accuracy:.2%}\")"
   ]
  },
  {
   "cell_type": "markdown",
   "id": "de8d2a9b",
   "metadata": {
    "papermill": {
     "duration": 0.013945,
     "end_time": "2024-11-14T06:31:09.577329",
     "exception": false,
     "start_time": "2024-11-14T06:31:09.563384",
     "status": "completed"
    },
    "tags": []
   },
   "source": [
    "Now take a look at the dataframe to compare the predictions with the labels."
   ]
  },
  {
   "cell_type": "code",
   "execution_count": 16,
   "id": "5ebf4c93",
   "metadata": {
    "execution": {
     "iopub.execute_input": "2024-11-14T06:31:12.176390Z",
     "iopub.status.busy": "2024-11-14T06:31:12.176037Z",
     "iopub.status.idle": "2024-11-14T06:31:12.188517Z",
     "shell.execute_reply": "2024-11-14T06:31:12.187406Z"
    },
    "papermill": {
     "duration": 2.600645,
     "end_time": "2024-11-14T06:31:12.190862",
     "exception": false,
     "start_time": "2024-11-14T06:31:09.590217",
     "status": "completed"
    },
    "tags": []
   },
   "outputs": [
    {
     "data": {
      "text/html": [
       "<div>\n",
       "<style scoped>\n",
       "    .dataframe tbody tr th:only-of-type {\n",
       "        vertical-align: middle;\n",
       "    }\n",
       "\n",
       "    .dataframe tbody tr th {\n",
       "        vertical-align: top;\n",
       "    }\n",
       "\n",
       "    .dataframe thead th {\n",
       "        text-align: right;\n",
       "    }\n",
       "</style>\n",
       "<table border=\"1\" class=\"dataframe\">\n",
       "  <thead>\n",
       "    <tr style=\"text-align: right;\">\n",
       "      <th></th>\n",
       "      <th>Text</th>\n",
       "      <th>Label</th>\n",
       "      <th>Class Name</th>\n",
       "      <th>Prediction</th>\n",
       "    </tr>\n",
       "  </thead>\n",
       "  <tbody>\n",
       "    <tr>\n",
       "      <th>0</th>\n",
       "      <td>Re: Warped brake discs on '91 Taurus L\\n\\nIn a...</td>\n",
       "      <td>7</td>\n",
       "      <td>rec.autos</td>\n",
       "      <td>rec.autos</td>\n",
       "    </tr>\n",
       "    <tr>\n",
       "      <th>1</th>\n",
       "      <td>Re: wife wants convertible\\n\\nAnd here's my tw...</td>\n",
       "      <td>7</td>\n",
       "      <td>rec.autos</td>\n",
       "      <td>rec.autos.misc</td>\n",
       "    </tr>\n",
       "    <tr>\n",
       "      <th>2</th>\n",
       "      <td>Re: Magnetic tank bags\\n\\n\\nWhat about disks? ...</td>\n",
       "      <td>8</td>\n",
       "      <td>rec.motorcycles</td>\n",
       "      <td>rec.motorcycles</td>\n",
       "    </tr>\n",
       "    <tr>\n",
       "      <th>3</th>\n",
       "      <td>Re: Countersteering sans Hands\\n\\nIn article &lt;...</td>\n",
       "      <td>8</td>\n",
       "      <td>rec.motorcycles</td>\n",
       "      <td>rec.motorcycles</td>\n",
       "    </tr>\n",
       "    <tr>\n",
       "      <th>4</th>\n",
       "      <td>Re: bosio's no-hitter\\n\\n (BROWN PHILIP H) wri...</td>\n",
       "      <td>9</td>\n",
       "      <td>rec.sport.baseball</td>\n",
       "      <td>rec.sports.baseball</td>\n",
       "    </tr>\n",
       "    <tr>\n",
       "      <th>5</th>\n",
       "      <td>The Braves will come around...\\n\\nTo all the B...</td>\n",
       "      <td>9</td>\n",
       "      <td>rec.sport.baseball</td>\n",
       "      <td>rec.sports.baseball.misc</td>\n",
       "    </tr>\n",
       "    <tr>\n",
       "      <th>6</th>\n",
       "      <td>Bruins\\n\\nOn April 23,   (Douglas McKee) wrote...</td>\n",
       "      <td>10</td>\n",
       "      <td>rec.sport.hockey</td>\n",
       "      <td>rec.sports.hockey</td>\n",
       "    </tr>\n",
       "    <tr>\n",
       "      <th>7</th>\n",
       "      <td>Re: Goalie mask poll update 4/22/93\\n\\n&gt; Now h...</td>\n",
       "      <td>10</td>\n",
       "      <td>rec.sport.hockey</td>\n",
       "      <td>rec.sports.hockey</td>\n",
       "    </tr>\n",
       "    <tr>\n",
       "      <th>8</th>\n",
       "      <td>Re: Let's build software cryptophones for over...</td>\n",
       "      <td>11</td>\n",
       "      <td>sci.crypt</td>\n",
       "      <td>(error)</td>\n",
       "    </tr>\n",
       "    <tr>\n",
       "      <th>9</th>\n",
       "      <td>Re: Clipper Not Good Enough for Government?\\n\\...</td>\n",
       "      <td>11</td>\n",
       "      <td>sci.crypt</td>\n",
       "      <td>(error)</td>\n",
       "    </tr>\n",
       "    <tr>\n",
       "      <th>10</th>\n",
       "      <td>Voice synth chips\\n\\nDoes anyone know where I ...</td>\n",
       "      <td>12</td>\n",
       "      <td>sci.electronics</td>\n",
       "      <td>rec.audio.synthesizers</td>\n",
       "    </tr>\n",
       "    <tr>\n",
       "      <th>11</th>\n",
       "      <td>Re: References for ANY IC\\n\\n In a previous ar...</td>\n",
       "      <td>12</td>\n",
       "      <td>sci.electronics</td>\n",
       "      <td>comp.electronics.misc</td>\n",
       "    </tr>\n",
       "    <tr>\n",
       "      <th>12</th>\n",
       "      <td>Great Canadian Scientists\\n\\nAbout two years a...</td>\n",
       "      <td>13</td>\n",
       "      <td>sci.med</td>\n",
       "      <td>sci.research.projects</td>\n",
       "    </tr>\n",
       "    <tr>\n",
       "      <th>13</th>\n",
       "      <td>Re: Legality of placebos?\\n\\nIn article &lt;&gt;  (J...</td>\n",
       "      <td>13</td>\n",
       "      <td>sci.med</td>\n",
       "      <td>alt.med</td>\n",
       "    </tr>\n",
       "    <tr>\n",
       "      <th>14</th>\n",
       "      <td>Re: Death and Taxes (was Why not give $1 billi...</td>\n",
       "      <td>14</td>\n",
       "      <td>sci.space</td>\n",
       "      <td>alt.politics.australia</td>\n",
       "    </tr>\n",
       "    <tr>\n",
       "      <th>15</th>\n",
       "      <td>Re: Space Marketing would be wonderfull.\\n\\n&gt;&gt;...</td>\n",
       "      <td>14</td>\n",
       "      <td>sci.space</td>\n",
       "      <td>sci.astro.amateur</td>\n",
       "    </tr>\n",
       "  </tbody>\n",
       "</table>\n",
       "</div>"
      ],
      "text/plain": [
       "                                                 Text  Label  \\\n",
       "0   Re: Warped brake discs on '91 Taurus L\\n\\nIn a...      7   \n",
       "1   Re: wife wants convertible\\n\\nAnd here's my tw...      7   \n",
       "2   Re: Magnetic tank bags\\n\\n\\nWhat about disks? ...      8   \n",
       "3   Re: Countersteering sans Hands\\n\\nIn article <...      8   \n",
       "4   Re: bosio's no-hitter\\n\\n (BROWN PHILIP H) wri...      9   \n",
       "5   The Braves will come around...\\n\\nTo all the B...      9   \n",
       "6   Bruins\\n\\nOn April 23,   (Douglas McKee) wrote...     10   \n",
       "7   Re: Goalie mask poll update 4/22/93\\n\\n> Now h...     10   \n",
       "8   Re: Let's build software cryptophones for over...     11   \n",
       "9   Re: Clipper Not Good Enough for Government?\\n\\...     11   \n",
       "10  Voice synth chips\\n\\nDoes anyone know where I ...     12   \n",
       "11  Re: References for ANY IC\\n\\n In a previous ar...     12   \n",
       "12  Great Canadian Scientists\\n\\nAbout two years a...     13   \n",
       "13  Re: Legality of placebos?\\n\\nIn article <>  (J...     13   \n",
       "14  Re: Death and Taxes (was Why not give $1 billi...     14   \n",
       "15  Re: Space Marketing would be wonderfull.\\n\\n>>...     14   \n",
       "\n",
       "            Class Name                Prediction  \n",
       "0            rec.autos                 rec.autos  \n",
       "1            rec.autos            rec.autos.misc  \n",
       "2      rec.motorcycles           rec.motorcycles  \n",
       "3      rec.motorcycles           rec.motorcycles  \n",
       "4   rec.sport.baseball       rec.sports.baseball  \n",
       "5   rec.sport.baseball  rec.sports.baseball.misc  \n",
       "6     rec.sport.hockey         rec.sports.hockey  \n",
       "7     rec.sport.hockey         rec.sports.hockey  \n",
       "8            sci.crypt                   (error)  \n",
       "9            sci.crypt                   (error)  \n",
       "10     sci.electronics    rec.audio.synthesizers  \n",
       "11     sci.electronics     comp.electronics.misc  \n",
       "12             sci.med     sci.research.projects  \n",
       "13             sci.med                   alt.med  \n",
       "14           sci.space    alt.politics.australia  \n",
       "15           sci.space         sci.astro.amateur  "
      ]
     },
     "execution_count": 16,
     "metadata": {},
     "output_type": "execute_result"
    }
   ],
   "source": [
    "df_baseline_eval"
   ]
  },
  {
   "cell_type": "markdown",
   "id": "5f8d4425",
   "metadata": {
    "id": "Ok7ugrLzcghX",
    "papermill": {
     "duration": 0.009987,
     "end_time": "2024-11-14T06:31:12.211444",
     "exception": false,
     "start_time": "2024-11-14T06:31:12.201457",
     "status": "completed"
    },
    "tags": []
   },
   "source": [
    "## Tune a custom model\n",
    "\n",
    "In this example you'll use tuning to help create a model that requires no prompting or system instructions and outputs succinct text from the classes you provide in the training data.\n",
    "\n",
    "The data contains both input text (the processed posts) and output text (the category, or newsgroup), which you can use to start tuning a model.\n",
    "\n",
    "The Python SDK for tuning supports Pandas dataframes as input, so you don't need any custom data generators or pipelines. Just specify the input and the relevant columns as the `input_key` and `output_key`.\n",
    "\n",
    "When calling `create_tuned_model`, you can specify model tuning hyperparameters too:\n",
    " - `epoch_count`: defines how many times to loop through the data,\n",
    " - `batch_size`: defines how many rows to process in a single step, and\n",
    " - `learning_rate`: defines the scaling factor for updating model weights at each step.\n",
    "\n",
    "You can also choose to omit them and use the defaults. [Learn more](https://developers.google.com/machine-learning/crash-course/linear-regression/hyperparameters) about these parameters and how they work. For this example these parameters were selected by running some tuning jobs and selecting parameters that were both effective and quick."
   ]
  },
  {
   "cell_type": "code",
   "execution_count": 17,
   "id": "f25b2248",
   "metadata": {
    "execution": {
     "iopub.execute_input": "2024-11-14T06:31:12.234345Z",
     "iopub.status.busy": "2024-11-14T06:31:12.233496Z",
     "iopub.status.idle": "2024-11-14T06:31:13.731571Z",
     "shell.execute_reply": "2024-11-14T06:31:13.730367Z"
    },
    "id": "pWOZlspfY8dV",
    "papermill": {
     "duration": 1.512031,
     "end_time": "2024-11-14T06:31:13.733995",
     "exception": false,
     "start_time": "2024-11-14T06:31:12.221964",
     "status": "completed"
    },
    "tags": []
   },
   "outputs": [
    {
     "name": "stdout",
     "output_type": "stream",
     "text": [
      "newsgroup-classifier-58075\n"
     ]
    }
   ],
   "source": [
    "from collections.abc import Iterable\n",
    "import random\n",
    "\n",
    "\n",
    "# Append a random number to the model ID so you can re-run with a higher chance\n",
    "# of creating a unique model ID.\n",
    "model_id = f\"newsgroup-classifier-{random.randint(10000, 99999)}\"\n",
    "\n",
    "# Upload the training data and queue the tuning job.\n",
    "tuning_op = genai.create_tuned_model(\n",
    "    \"models/gemini-1.5-flash-001-tuning\",\n",
    "    training_data=df_train,\n",
    "    input_key=\"Text\",  # the column to use as input\n",
    "    output_key=\"Class Name\",  # the column to use as output\n",
    "    id=model_id,\n",
    "    display_name=\"Newsgroup classification model\",\n",
    "    batch_size=16,\n",
    "    epoch_count=2,\n",
    ")\n",
    "\n",
    "print(model_id)"
   ]
  },
  {
   "cell_type": "markdown",
   "id": "2952d4f4",
   "metadata": {
    "id": "NQ3YZ2MBubCY",
    "papermill": {
     "duration": 0.010005,
     "end_time": "2024-11-14T06:31:13.754634",
     "exception": false,
     "start_time": "2024-11-14T06:31:13.744629",
     "status": "completed"
    },
    "tags": []
   },
   "source": [
    "This has created a tuning job that will run in the background. To inspect the progress of the tuning job, run this cell to plot the current status and loss curve. Once the status reaches `ACTIVE`, tuning is complete and the model is ready to use.\n",
    "\n",
    "Tuning jobs are queued, so it may look like no training steps have been taken initially but it will progress. Tuning can take upwards of 20 minutes, depending on factors like your dataset size and how busy the tuning infrastrature is. Why not treat yourself to a nice cup of tea while you wait, or come and say \"Hi!\" to [yours truly](https://discord.com/users/132124213132787712) in the group [Discord](https://discord.com/invite/kaggle).\n",
    "\n",
    "It is safe to stop this cell at any point. It will not stop the tuning job."
   ]
  },
  {
   "cell_type": "code",
   "execution_count": 18,
   "id": "58793bd0",
   "metadata": {
    "execution": {
     "iopub.execute_input": "2024-11-14T06:31:13.777288Z",
     "iopub.status.busy": "2024-11-14T06:31:13.776860Z",
     "iopub.status.idle": "2024-11-14T06:36:17.862909Z",
     "shell.execute_reply": "2024-11-14T06:36:17.861546Z"
    },
    "id": "c4ef5f13692d",
    "papermill": {
     "duration": 304.111029,
     "end_time": "2024-11-14T06:36:17.876147",
     "exception": false,
     "start_time": "2024-11-14T06:31:13.765118",
     "status": "completed"
    },
    "tags": []
   },
   "outputs": [
    {
     "name": "stdout",
     "output_type": "stream",
     "text": [
      "State.CREATING\n",
      "State.CREATING\n"
     ]
    },
    {
     "name": "stderr",
     "output_type": "stream",
     "text": [
      "/opt/conda/lib/python3.10/site-packages/seaborn/_oldcore.py:1119: FutureWarning: use_inf_as_na option is deprecated and will be removed in a future version. Convert inf values to NaN before operating instead.\n",
      "  with pd.option_context('mode.use_inf_as_na', True):\n",
      "/opt/conda/lib/python3.10/site-packages/seaborn/_oldcore.py:1119: FutureWarning: use_inf_as_na option is deprecated and will be removed in a future version. Convert inf values to NaN before operating instead.\n",
      "  with pd.option_context('mode.use_inf_as_na', True):\n"
     ]
    },
    {
     "name": "stdout",
     "output_type": "stream",
     "text": [
      "State.CREATING\n"
     ]
    },
    {
     "name": "stderr",
     "output_type": "stream",
     "text": [
      "/opt/conda/lib/python3.10/site-packages/seaborn/_oldcore.py:1119: FutureWarning: use_inf_as_na option is deprecated and will be removed in a future version. Convert inf values to NaN before operating instead.\n",
      "  with pd.option_context('mode.use_inf_as_na', True):\n",
      "/opt/conda/lib/python3.10/site-packages/seaborn/_oldcore.py:1119: FutureWarning: use_inf_as_na option is deprecated and will be removed in a future version. Convert inf values to NaN before operating instead.\n",
      "  with pd.option_context('mode.use_inf_as_na', True):\n"
     ]
    },
    {
     "name": "stdout",
     "output_type": "stream",
     "text": [
      "State.CREATING\n"
     ]
    },
    {
     "name": "stderr",
     "output_type": "stream",
     "text": [
      "/opt/conda/lib/python3.10/site-packages/seaborn/_oldcore.py:1119: FutureWarning: use_inf_as_na option is deprecated and will be removed in a future version. Convert inf values to NaN before operating instead.\n",
      "  with pd.option_context('mode.use_inf_as_na', True):\n",
      "/opt/conda/lib/python3.10/site-packages/seaborn/_oldcore.py:1119: FutureWarning: use_inf_as_na option is deprecated and will be removed in a future version. Convert inf values to NaN before operating instead.\n",
      "  with pd.option_context('mode.use_inf_as_na', True):\n"
     ]
    },
    {
     "name": "stdout",
     "output_type": "stream",
     "text": [
      "State.CREATING\n",
      "Done! The model is ACTIVE\n"
     ]
    },
    {
     "data": {
      "image/png": "[encoded data removed]",
      "text/plain": [
       "<Figure size 640x480 with 1 Axes>"
      ]
     },
     "metadata": {},
     "output_type": "display_data"
    }
   ],
   "source": [
    "import time\n",
    "import seaborn as sns\n",
    "\n",
    "\n",
    "while (tuned_model := genai.get_tuned_model(f\"tunedModels/{model_id}\")).state.name != 'ACTIVE':\n",
    "\n",
    "    if tuned_model.tuning_task.snapshots:\n",
    "        # If the tuning task has started, this will draw the loss so far.\n",
    "        snapshots = pd.DataFrame(tuned_model.tuning_task.snapshots)\n",
    "        sns.lineplot(data=snapshots, x=\"step\", y=\"mean_loss\")\n",
    "\n",
    "    print(tuned_model.state)\n",
    "\n",
    "    time.sleep(60)\n",
    "\n",
    "print(f\"Done! The model is {tuned_model.state.name}\")"
   ]
  },
  {
   "cell_type": "markdown",
   "id": "3f166902",
   "metadata": {
    "id": "9-qiIdK4u80z",
    "papermill": {
     "duration": 0.015301,
     "end_time": "2024-11-14T06:36:17.904610",
     "exception": false,
     "start_time": "2024-11-14T06:36:17.889309",
     "status": "completed"
    },
    "tags": []
   },
   "source": [
    "## Use the new model\n",
    "\n",
    "Now that you have a tuned model, try it out with custom data. You use the same API as a normal Gemini API interaction, but you specify your new model as the model name, using the `tunedModels/` prefix."
   ]
  },
  {
   "cell_type": "code",
   "execution_count": 19,
   "id": "7ef1281b",
   "metadata": {
    "execution": {
     "iopub.execute_input": "2024-11-14T06:36:17.930390Z",
     "iopub.status.busy": "2024-11-14T06:36:17.929329Z",
     "iopub.status.idle": "2024-11-14T06:36:22.970072Z",
     "shell.execute_reply": "2024-11-14T06:36:22.968697Z"
    },
    "id": "hyO2-MXLvM6a",
    "papermill": {
     "duration": 5.056254,
     "end_time": "2024-11-14T06:36:22.972467",
     "exception": false,
     "start_time": "2024-11-14T06:36:17.916213",
     "status": "completed"
    },
    "tags": []
   },
   "outputs": [
    {
     "name": "stdout",
     "output_type": "stream",
     "text": [
      "sci.space\n"
     ]
    }
   ],
   "source": [
    "your_model = genai.GenerativeModel(f\"tunedModels/{model_id}\")\n",
    "\n",
    "new_text = \"\"\"\n",
    "First-timer looking to get out of here.\n",
    "\n",
    "Hi, I'm writing about my interest in travelling to the outer limits!\n",
    "\n",
    "What kind of craft can I buy? What is easiest to access from this 3rd rock?\n",
    "\n",
    "Let me know how to do that please.\n",
    "\"\"\"\n",
    "\n",
    "response = your_model.generate_content(new_text)\n",
    "print(response.text)"
   ]
  },
  {
   "cell_type": "markdown",
   "id": "18a44a2b",
   "metadata": {
    "id": "xajLek9DySH_",
    "papermill": {
     "duration": 0.011448,
     "end_time": "2024-11-14T06:36:22.995730",
     "exception": false,
     "start_time": "2024-11-14T06:36:22.984282",
     "status": "completed"
    },
    "tags": []
   },
   "source": [
    "### Evaluation\n",
    "\n",
    "You can see that the model outputs labels that correspond to those in the training data, and without any system instructions or prompting, which is already a great improvement. Now see how well it performs on the test set.\n",
    "\n",
    "Note that there is no parallelism in this example; classifying the test sub-set will take a few minutes."
   ]
  },
  {
   "cell_type": "code",
   "execution_count": 20,
   "id": "638201a6",
   "metadata": {
    "execution": {
     "iopub.execute_input": "2024-11-14T06:36:23.021758Z",
     "iopub.status.busy": "2024-11-14T06:36:23.020624Z",
     "iopub.status.idle": "2024-11-14T06:38:24.658701Z",
     "shell.execute_reply": "2024-11-14T06:38:24.657509Z"
    },
    "id": "6T2Y3ZApvbMw",
    "papermill": {
     "duration": 121.652903,
     "end_time": "2024-11-14T06:38:24.660904",
     "exception": false,
     "start_time": "2024-11-14T06:36:23.008001",
     "status": "completed"
    },
    "tags": []
   },
   "outputs": [
    {
     "data": {
      "application/vnd.jupyter.widget-view+json": {
       "model_id": "1f1f7bcd0a0249518a20302c8b02b5bd",
       "version_major": 2,
       "version_minor": 0
      },
      "text/plain": [
       "Output()"
      ]
     },
     "metadata": {},
     "output_type": "display_data"
    },
    {
     "name": "stderr",
     "output_type": "stream",
     "text": [
      "/opt/conda/lib/python3.10/site-packages/tqdm/std.py:885: TqdmExperimentalWarning: rich is experimental/alpha\n",
      "  t = cls(total=total, **tqdm_kwargs)\n"
     ]
    },
    {
     "data": {
      "text/html": [
       "<pre style=\"white-space:pre;overflow-x:auto;line-height:normal;font-family:Menlo,'DejaVu Sans Mono',consolas,'Courier New',monospace\"></pre>\n"
      ],
      "text/plain": []
     },
     "metadata": {},
     "output_type": "display_data"
    },
    {
     "data": {
      "text/html": [
       "<pre style=\"white-space:pre;overflow-x:auto;line-height:normal;font-family:Menlo,'DejaVu Sans Mono',consolas,'Courier New',monospace\">\n",
       "</pre>\n"
      ],
      "text/plain": [
       "\n"
      ]
     },
     "metadata": {},
     "output_type": "display_data"
    },
    {
     "name": "stdout",
     "output_type": "stream",
     "text": [
      "Accuracy: 96.88%\n"
     ]
    }
   ],
   "source": [
    "def classify_text(text: str) -> str:\n",
    "    \"\"\"Classify the provided text into a known newsgroup.\"\"\"\n",
    "    response = your_model.generate_content(text, request_options=retry_policy)\n",
    "    rc = response.candidates[0]\n",
    "\n",
    "    # Any errors, filters, recitation, etc we can mark as a general error\n",
    "    if rc.finish_reason.name != \"STOP\":\n",
    "        return \"(error)\"\n",
    "    else:\n",
    "        return rc.content.parts[0].text\n",
    "\n",
    "\n",
    "# The sampling here is just to minimise your quota usage. If you can, you should\n",
    "# evaluate the whole test set with `df_model_eval = df_test.copy()`.\n",
    "df_model_eval = sample_data(df_test, 4, '.*')\n",
    "\n",
    "\n",
    "df_model_eval[\"Prediction\"] = df_model_eval[\"Text\"].progress_apply(classify_text)\n",
    "\n",
    "accuracy = (df_model_eval[\"Class Name\"] == df_model_eval[\"Prediction\"]).sum() / len(df_model_eval)\n",
    "print(f\"Accuracy: {accuracy:.2%}\")"
   ]
  },
  {
   "cell_type": "markdown",
   "id": "84f170a7",
   "metadata": {
    "papermill": {
     "duration": 0.015371,
     "end_time": "2024-11-14T06:38:24.691797",
     "exception": false,
     "start_time": "2024-11-14T06:38:24.676426",
     "status": "completed"
    },
    "tags": []
   },
   "source": [
    "## Compare token usage\n",
    "\n",
    "AI Studio and the Gemini API provide model tuning at no cost, however normal limits and charges apply for *use* of a tuned model.\n",
    "\n",
    "The size of the input prompt and other generation config like system instructions, as well as the number of generated output tokens, all contribute to the overall cost of a request."
   ]
  },
  {
   "cell_type": "code",
   "execution_count": 21,
   "id": "e9d4f45a",
   "metadata": {
    "execution": {
     "iopub.execute_input": "2024-11-14T06:38:28.532781Z",
     "iopub.status.busy": "2024-11-14T06:38:28.532352Z",
     "iopub.status.idle": "2024-11-14T06:38:29.098078Z",
     "shell.execute_reply": "2024-11-14T06:38:29.096726Z"
    },
    "papermill": {
     "duration": 4.393254,
     "end_time": "2024-11-14T06:38:29.100422",
     "exception": false,
     "start_time": "2024-11-14T06:38:24.707168",
     "status": "completed"
    },
    "tags": []
   },
   "outputs": [
    {
     "name": "stdout",
     "output_type": "stream",
     "text": [
      "System instructed baseline model: 171 (input)\n",
      "Tuned model: 135 (input)\n",
      "Token savings: 26.67%\n"
     ]
    }
   ],
   "source": [
    "# Calculate the *input* cost of the baseline model with system instructions.\n",
    "sysint_tokens = instructed_model.count_tokens(sample_row).total_tokens\n",
    "print(f'System instructed baseline model: {sysint_tokens} (input)')\n",
    "\n",
    "# Calculate the input cost of the tuned model.\n",
    "tuned_tokens = your_model.count_tokens(sample_row).total_tokens\n",
    "print(f'Tuned model: {tuned_tokens} (input)')\n",
    "\n",
    "savings = (sysint_tokens - tuned_tokens) / tuned_tokens\n",
    "print(f'Token savings: {savings:.2%}')  # Note that this is only n=1."
   ]
  },
  {
   "cell_type": "markdown",
   "id": "6c2699f6",
   "metadata": {
    "papermill": {
     "duration": 0.012491,
     "end_time": "2024-11-14T06:38:29.125331",
     "exception": false,
     "start_time": "2024-11-14T06:38:29.112840",
     "status": "completed"
    },
    "tags": []
   },
   "source": [
    "The earlier verbose model also produced more output tokens than needed for this task."
   ]
  },
  {
   "cell_type": "code",
   "execution_count": 22,
   "id": "300fa323",
   "metadata": {
    "execution": {
     "iopub.execute_input": "2024-11-14T06:38:29.151853Z",
     "iopub.status.busy": "2024-11-14T06:38:29.150721Z",
     "iopub.status.idle": "2024-11-14T06:38:30.170821Z",
     "shell.execute_reply": "2024-11-14T06:38:30.169507Z"
    },
    "papermill": {
     "duration": 1.036299,
     "end_time": "2024-11-14T06:38:30.173617",
     "exception": false,
     "start_time": "2024-11-14T06:38:29.137318",
     "status": "completed"
    },
    "tags": []
   },
   "outputs": [
    {
     "name": "stdout",
     "output_type": "stream",
     "text": [
      "Baseline (verbose) output tokens: 212\n",
      "Tuned output tokens: 4\n"
     ]
    }
   ],
   "source": [
    "baseline_token_output = baseline_response.usage_metadata.candidates_token_count\n",
    "print('Baseline (verbose) output tokens:', baseline_token_output)\n",
    "\n",
    "tuned_model_output = your_model.generate_content(sample_row)\n",
    "tuned_tokens_output = tuned_model_output.usage_metadata.candidates_token_count\n",
    "print('Tuned output tokens:', tuned_tokens_output)"
   ]
  },
  {
   "cell_type": "markdown",
   "id": "f5803e54",
   "metadata": {
    "id": "6c1204a5d0ab",
    "papermill": {
     "duration": 0.01179,
     "end_time": "2024-11-14T06:38:30.197885",
     "exception": false,
     "start_time": "2024-11-14T06:38:30.186095",
     "status": "completed"
    },
    "tags": []
   },
   "source": [
    "## Next steps\n",
    "\n",
    "Now that you have tuned a classification model, try some other tasks, like tuning a model to respond with a specific tone or style using hand-written examples (or even generated examples!). Kaggle hosts [a number of datasets](https://www.kaggle.com/datasets) you can try out.\n",
    "\n",
    "Learn about [when supervised fine-tuning is most effective](https://cloud.google.com/blog/products/ai-machine-learning/supervised-fine-tuning-for-gemini-llm).\n",
    "\n",
    "And check out the [fine-tuning tutorial](https://ai.google.dev/gemini-api/docs/model-tuning/tutorial?hl=en&lang=python) for another example that shows a tuned model extending beyond the training data to new, unseen inputs."
   ]
  }
 ],
 "metadata": {
  "colab": {
   "name": "day-4-fine-tuning-a-custom-model.ipynb",
   "toc_visible": true
  },
  "kaggle": {
   "accelerator": "none",
   "dataSources": [],
   "dockerImageVersionId": 30786,
   "isGpuEnabled": false,
   "isInternetEnabled": true,
   "language": "python",
   "sourceType": "notebook"
  },
  "kernelspec": {
   "display_name": "Python 3",
   "language": "python",
   "name": "python3"
  },
  "language_info": {
   "codemirror_mode": {
    "name": "ipython",
    "version": 3
   },
   "file_extension": ".py",
   "mimetype": "text/x-python",
   "name": "python",
   "nbconvert_exporter": "python",
   "pygments_lexer": "ipython3",
   "version": "3.10.14"
  },
  "papermill": {
   "default_parameters": {},
   "duration": 597.082134,
   "end_time": "2024-11-14T06:38:31.032467",
   "environment_variables": {},
   "exception": null,
   "input_path": "__notebook__.ipynb",
   "output_path": "__notebook__.ipynb",
   "parameters": {},
   "start_time": "2024-11-14T06:28:33.950333",
   "version": "2.6.0"
  },
  "widgets": {
   "application/vnd.jupyter.widget-state+json": {
    "state": {
     "1f1f7bcd0a0249518a20302c8b02b5bd": {
      "model_module": "@jupyter-widgets/output",
      "model_module_version": "1.0.0",
      "model_name": "OutputModel",
      "state": {
       "_dom_classes": [],
       "_model_module": "@jupyter-widgets/output",
       "_model_module_version": "1.0.0",
       "_model_name": "OutputModel",
       "_view_count": null,
       "_view_module": "@jupyter-widgets/output",
       "_view_module_version": "1.0.0",
       "_view_name": "OutputView",
       "layout": "IPY_MODEL_6604a5b5c4944bedbdb521f515e5a1a2",
       "msg_id": "",
       "outputs": [
        {
         "data": {
          "text/html": "<pre style=\"white-space:pre;overflow-x:auto;line-height:normal;font-family:Menlo,'DejaVu Sans Mono',consolas,'Courier New',monospace\"><span style=\"color: #800080; text-decoration-color: #800080\"> 100%</span> <span style=\"color: #729c1f; text-decoration-color: #729c1f\">━━━━━━━━━━━━━━━━━━━━━━━━━━━━━━━━━━━━━━━━━━━━━━━━━━━━━━━━━━━━━━━━━━━━━━━</span> <span style=\"color: #008000; text-decoration-color: #008000\">32/32 </span> [ <span style=\"color: #808000; text-decoration-color: #808000\">0:02:00</span> &lt; <span style=\"color: #008080; text-decoration-color: #008080\">0:00:00</span> , <span style=\"color: #800000; text-decoration-color: #800000\">1 it/s</span> ]\n</pre>\n",
          "text/plain": "\u001b[35m 100%\u001b[0m \u001b[38;2;114;156;31m━━━━━━━━━━━━━━━━━━━━━━━━━━━━━━━━━━━━━━━━━━━━━━━━━━━━━━━━━━━━━━━━━━━━━━━\u001b[0m \u001b[32m32/32 \u001b[0m [ \u001b[33m0:02:00\u001b[0m < \u001b[36m0:00:00\u001b[0m , \u001b[31m1 it/s\u001b[0m ]\n"
         },
         "metadata": {},
         "output_type": "display_data"
        }
       ]
      }
     },
     "5230847af27b4df595a90d8e2d7060e8": {
      "model_module": "@jupyter-widgets/base",
      "model_module_version": "1.2.0",
      "model_name": "LayoutModel",
      "state": {
       "_model_module": "@jupyter-widgets/base",
       "_model_module_version": "1.2.0",
       "_model_name": "LayoutModel",
       "_view_count": null,
       "_view_module": "@jupyter-widgets/base",
       "_view_module_version": "1.2.0",
       "_view_name": "LayoutView",
       "align_content": null,
       "align_items": null,
       "align_self": null,
       "border": null,
       "bottom": null,
       "display": null,
       "flex": null,
       "flex_flow": null,
       "grid_area": null,
       "grid_auto_columns": null,
       "grid_auto_flow": null,
       "grid_auto_rows": null,
       "grid_column": null,
       "grid_gap": null,
       "grid_row": null,
       "grid_template_areas": null,
       "grid_template_columns": null,
       "grid_template_rows": null,
       "height": null,
       "justify_content": null,
       "justify_items": null,
       "left": null,
       "margin": null,
       "max_height": null,
       "max_width": null,
       "min_height": null,
       "min_width": null,
       "object_fit": null,
       "object_position": null,
       "order": null,
       "overflow": null,
       "overflow_x": null,
       "overflow_y": null,
       "padding": null,
       "right": null,
       "top": null,
       "visibility": null,
       "width": null
      }
     },
     "6604a5b5c4944bedbdb521f515e5a1a2": {
      "model_module": "@jupyter-widgets/base",
      "model_module_version": "1.2.0",
      "model_name": "LayoutModel",
      "state": {
       "_model_module": "@jupyter-widgets/base",
       "_model_module_version": "1.2.0",
       "_model_name": "LayoutModel",
       "_view_count": null,
       "_view_module": "@jupyter-widgets/base",
       "_view_module_version": "1.2.0",
       "_view_name": "LayoutView",
       "align_content": null,
       "align_items": null,
       "align_self": null,
       "border": null,
       "bottom": null,
       "display": null,
       "flex": null,
       "flex_flow": null,
       "grid_area": null,
       "grid_auto_columns": null,
       "grid_auto_flow": null,
       "grid_auto_rows": null,
       "grid_column": null,
       "grid_gap": null,
       "grid_row": null,
       "grid_template_areas": null,
       "grid_template_columns": null,
       "grid_template_rows": null,
       "height": null,
       "justify_content": null,
       "justify_items": null,
       "left": null,
       "margin": null,
       "max_height": null,
       "max_width": null,
       "min_height": null,
       "min_width": null,
       "object_fit": null,
       "object_position": null,
       "order": null,
       "overflow": null,
       "overflow_x": null,
       "overflow_y": null,
       "padding": null,
       "right": null,
       "top": null,
       "visibility": null,
       "width": null
      }
     },
     "909aa1fc654246c7bffc2ca63a55db86": {
      "model_module": "@jupyter-widgets/output",
      "model_module_version": "1.0.0",
      "model_name": "OutputModel",
      "state": {
       "_dom_classes": [],
       "_model_module": "@jupyter-widgets/output",
       "_model_module_version": "1.0.0",
       "_model_name": "OutputModel",
       "_view_count": null,
       "_view_module": "@jupyter-widgets/output",
       "_view_module_version": "1.0.0",
       "_view_name": "OutputView",
       "layout": "IPY_MODEL_5230847af27b4df595a90d8e2d7060e8",
       "msg_id": "",
       "outputs": [
        {
         "data": {
          "text/html": "<pre style=\"white-space:pre;overflow-x:auto;line-height:normal;font-family:Menlo,'DejaVu Sans Mono',consolas,'Courier New',monospace\"><span style=\"color: #800080; text-decoration-color: #800080\"> 100%</span> <span style=\"color: #729c1f; text-decoration-color: #729c1f\">━━━━━━━━━━━━━━━━━━━━━━━━━━━━━━━━━━━━━━━━━━━━━━━━━━━━━━━━━━━━━━━━━━━━━━━</span> <span style=\"color: #008000; text-decoration-color: #008000\">16/16 </span> [ <span style=\"color: #808000; text-decoration-color: #808000\">0:00:11</span> &lt; <span style=\"color: #008080; text-decoration-color: #008080\">0:00:00</span> , <span style=\"color: #800000; text-decoration-color: #800000\">1 it/s</span> ]\n</pre>\n",
          "text/plain": "\u001b[35m 100%\u001b[0m \u001b[38;2;114;156;31m━━━━━━━━━━━━━━━━━━━━━━━━━━━━━━━━━━━━━━━━━━━━━━━━━━━━━━━━━━━━━━━━━━━━━━━\u001b[0m \u001b[32m16/16 \u001b[0m [ \u001b[33m0:00:11\u001b[0m < \u001b[36m0:00:00\u001b[0m , \u001b[31m1 it/s\u001b[0m ]\n"
         },
         "metadata": {},
         "output_type": "display_data"
        }
       ]
      }
     }
    },
    "version_major": 2,
    "version_minor": 0
   }
  }
 },
 "nbformat": 4,
 "nbformat_minor": 5
}
